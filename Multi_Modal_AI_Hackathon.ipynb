{
  "nbformat": 4,
  "nbformat_minor": 0,
  "metadata": {
    "colab": {
      "provenance": [],
      "gpuType": "T4"
    },
    "kernelspec": {
      "name": "python3",
      "display_name": "Python 3"
    },
    "language_info": {
      "name": "python"
    },
    "accelerator": "GPU"
  },
  "cells": [
    {
      "cell_type": "markdown",
      "source": [
        "**Extract the Zip file**"
      ],
      "metadata": {
        "id": "aYGD05ugPoq5"
      }
    },
    {
      "cell_type": "code",
      "execution_count": null,
      "metadata": {
        "colab": {
          "base_uri": "https://localhost:8080/"
        },
        "id": "3Vgm9EyP8VtR",
        "outputId": "c77e28db-6a4e-4eab-d8a0-a3781950b75d"
      },
      "outputs": [
        {
          "output_type": "stream",
          "name": "stdout",
          "text": [
            "/usr/local/lib/python3.12/dist-packages/gdown/__main__.py:140: FutureWarning: Option `--id` was deprecated in version 4.3.1 and will be removed in 5.0. You don't need to pass it anymore to use a file ID.\n",
            "  warnings.warn(\n",
            "Downloading...\n",
            "From (original): https://drive.google.com/uc?id=1Q6ZmXCGvZdwV336MVrFr41G_4NpkquhB\n",
            "From (redirected): https://drive.google.com/uc?id=1Q6ZmXCGvZdwV336MVrFr41G_4NpkquhB&confirm=t&uuid=8806e2b5-89e4-4a14-9965-65da8a77ec20\n",
            "To: /content/data/train_data.zip\n",
            "100% 1.70G/1.70G [00:22<00:00, 76.4MB/s]\n",
            "/usr/local/lib/python3.12/dist-packages/gdown/__main__.py:140: FutureWarning: Option `--id` was deprecated in version 4.3.1 and will be removed in 5.0. You don't need to pass it anymore to use a file ID.\n",
            "  warnings.warn(\n",
            "Downloading...\n",
            "From (original): https://drive.google.com/uc?id=1jdqnxfDKld5DxrSfhwTtlN4bWRbHw1QY\n",
            "From (redirected): https://drive.google.com/uc?id=1jdqnxfDKld5DxrSfhwTtlN4bWRbHw1QY&confirm=t&uuid=3d642b26-4ab2-44df-bb5e-51796e3eea0c\n",
            "To: /content/data/validation_data.zip\n",
            "100% 766M/766M [00:13<00:00, 54.7MB/s]\n"
          ]
        }
      ],
      "source": [
        "!pip install -q gdown\n",
        "import os\n",
        "# Create a directory to store the data\n",
        "os.makedirs(\"data\", exist_ok=True)\n",
        "\n",
        "# Replace with your real file IDs\n",
        "train_file_id = '1Q6ZmXCGvZdwV336MVrFr41G_4NpkquhB'\n",
        "val_file_id = '1jdqnxfDKld5DxrSfhwTtlN4bWRbHw1QY'\n",
        "\n",
        "# Download files using gdown\n",
        "!gdown --id {train_file_id} --output data/train_data.zip\n",
        "!gdown --id {val_file_id} --output data/validation_data.zip\n",
        "\n",
        "import zipfile\n",
        "\n",
        "# Unzip train_data.zip\n",
        "with zipfile.ZipFile(\"data/train_data.zip\", 'r') as zip_ref:\n",
        "    zip_ref.extractall(\"data/train\")\n",
        "\n",
        "# Unzip validation_data.zip\n",
        "with zipfile.ZipFile(\"data/validation_data.zip\", 'r') as zip_ref:\n",
        "    zip_ref.extractall(\"data/validation\")"
      ]
    },
    {
      "cell_type": "markdown",
      "source": [
        "# **1. Data Preprocessing**"
      ],
      "metadata": {
        "id": "QVCwuh0oQRgc"
      }
    },
    {
      "cell_type": "markdown",
      "source": [
        "**Install the Neccessary Libraries**"
      ],
      "metadata": {
        "id": "wGI8DQHoP2a8"
      }
    },
    {
      "cell_type": "code",
      "source": [
        "!pip install h5py"
      ],
      "metadata": {
        "colab": {
          "base_uri": "https://localhost:8080/"
        },
        "id": "O4tNrWR38bZV",
        "outputId": "e490565c-d548-4e01-8583-44fb8550985a"
      },
      "execution_count": null,
      "outputs": [
        {
          "output_type": "stream",
          "name": "stdout",
          "text": [
            "Requirement already satisfied: h5py in /usr/local/lib/python3.12/dist-packages (3.14.0)\n",
            "Requirement already satisfied: numpy>=1.19.3 in /usr/local/lib/python3.12/dist-packages (from h5py) (2.0.2)\n"
          ]
        }
      ]
    },
    {
      "cell_type": "markdown",
      "source": [
        "**List the contents of the validation data directory.**"
      ],
      "metadata": {
        "id": "KTHiWoA5RcB7"
      }
    },
    {
      "cell_type": "code",
      "metadata": {
        "colab": {
          "base_uri": "https://localhost:8080/"
        },
        "id": "18e8ed6e",
        "outputId": "af22b49d-0496-4442-ab91-8020a89f7b96"
      },
      "source": [
        "import os\n",
        "print(os.listdir('/content/validation_data'))"
      ],
      "execution_count": null,
      "outputs": [
        {
          "output_type": "stream",
          "name": "stdout",
          "text": [
            "['jetImage_8_30p_20000_30000.h5', 'jetImage_7_30p_70000_80000.h5', 'jetImage_8_30p_70000_80000.h5', 'jetImage_9_30p_50000_60000.h5', 'jetImage_7_30p_0_10000.h5', 'jetImage_9_30p_20000_30000.h5', 'jetImage_8_30p_30000_40000.h5', 'jetImage_8_30p_60000_70000.h5', 'jetImage_7_30p_40000_50000.h5', 'jetImage_9_30p_0_10000.h5', 'jetImage_7_30p_20000_30000.h5', 'jetImage_8_30p_10000_20000.h5', 'jetImage_9_30p_40000_50000.h5', 'jetImage_9_30p_60000_70000.h5', 'jetImage_7_30p_50000_60000.h5', 'jetImage_7_30p_80000_90000.h5', 'jetImage_9_30p_10000_20000.h5', 'jetImage_7_30p_10000_20000.h5', 'jetImage_8_30p_50000_60000.h5', 'jetImage_9_30p_80000_90000.h5', 'jetImage_8_30p_80000_90000.h5', 'jetImage_9_30p_30000_40000.h5', 'jetImage_7_30p_60000_70000.h5', 'jetImage_8_30p_0_10000.h5', 'jetImage_8_30p_40000_50000.h5', 'jetImage_7_30p_30000_40000.h5', 'jetImage_9_30p_70000_80000.h5']\n"
          ]
        }
      ]
    },
    {
      "cell_type": "markdown",
      "source": [
        "**Import The Necessary Libraries**"
      ],
      "metadata": {
        "id": "R8Ymj5iBQGm8"
      }
    },
    {
      "cell_type": "code",
      "source": [
        "import h5py\n",
        "import pandas as pd\n",
        "import numpy as np\n",
        "from sklearn.impute import SimpleImputer\n",
        "import pandas as pd\n",
        "import numpy as np\n",
        "from sklearn.preprocessing import StandardScaler\n",
        "from sklearn.decomposition import PCA\n",
        "import matplotlib.pyplot as plt\n",
        "import seaborn as sns\n",
        "from tensorflow.keras.utils import to_categorical\n",
        "from tensorflow.keras.models import Sequential\n",
        "from tensorflow.keras.layers import Conv2D, MaxPooling2D, Flatten, Dense, Dropout\n",
        "from tensorflow.keras.optimizers import Adam\n",
        "from tensorflow.keras.callbacks import ModelCheckpoint\n",
        "from sklearn.model_selection import train_test_split\n",
        "from sklearn.linear_model import LogisticRegression\n",
        "from sklearn.metrics import accuracy_score, precision_score, recall_score, f1_score, roc_auc_score\n",
        "from sklearn.preprocessing import LabelBinarizer\n",
        "from sklearn.metrics import confusion_matrix\n",
        "from sklearn.metrics import RocCurveDisplay"
      ],
      "metadata": {
        "id": "YPFsFzAN8otS"
      },
      "execution_count": null,
      "outputs": []
    },
    {
      "cell_type": "markdown",
      "source": [
        "# **1.1 Feature Handling**"
      ],
      "metadata": {
        "id": "42Ww9M0XQfPS"
      }
    },
    {
      "cell_type": "markdown",
      "source": [
        "**Converted H5 file to a structured pandas DataFrame**"
      ],
      "metadata": {
        "id": "0rvxXctaQbL7"
      }
    },
    {
      "cell_type": "code",
      "source": [
        "File_Path = '/content/train_data/jetImage_2_30p_10000_20000.h5'\n",
        "try:\n",
        "    with h5py.File(File_Path, 'r') as h5_file:\n",
        "        feature_names = h5_file['FeatureNames'].asstr()[:]\n",
        "        jets_data = h5_file['jets_data'][:]\n",
        "        target_data = h5_file['target'][:]\n",
        "        df = pd.DataFrame(jets_data, columns=feature_names)\n",
        "        df['target'] = target_data\n",
        "        print(\"Successfully converted H5 file to a DataFrame\")\n",
        "        print(\"\\nDataframe Information:\")\n",
        "        #Information about Dataframe\n",
        "        df.info()\n",
        "        print(\"\\nFirst 5 rows of the Dataframe:\")\n",
        "        #Display the first 5 rows of the dataframe\n",
        "        print(df.head())\n",
        "        jet_images = h5_file['jetImage'][:]\n",
        "        print(f\"\\nShape of the 'jetimage' data: {jet_images.shape}\")\n",
        "        print(\"This image data is stored separately in the 'jet_images' variable.\")\n",
        "except IOError:\n",
        "    print(f\"Error: Could not read the file at {File_Path}\")\n",
        "except Exception as e:\n",
        "    print(f\"An error occurred: {e}\")"
      ],
      "metadata": {
        "colab": {
          "base_uri": "https://localhost:8080/"
        },
        "id": "oh1Ng_Nu8qH2",
        "outputId": "e7187cdc-ca9b-4d19-aaaa-0212c419142f"
      },
      "execution_count": null,
      "outputs": [
        {
          "output_type": "stream",
          "name": "stdout",
          "text": [
            "Successfully converted H5 file to a DataFrame\n",
            "\n",
            "Dataframe Information:\n",
            "<class 'pandas.core.frame.DataFrame'>\n",
            "RangeIndex: 10000 entries, 0 to 9999\n",
            "Data columns (total 54 columns):\n",
            " #   Column           Non-Null Count  Dtype  \n",
            "---  ------           --------------  -----  \n",
            " 0   j_ptfrac         10000 non-null  float64\n",
            " 1   j_pt             10000 non-null  float64\n",
            " 2   j_eta            10000 non-null  float64\n",
            " 3   j_mass           10000 non-null  float64\n",
            " 4   j_tau1_b1        10000 non-null  float64\n",
            " 5   j_tau2_b1        10000 non-null  float64\n",
            " 6   j_tau3_b1        10000 non-null  float64\n",
            " 7   j_tau1_b2        10000 non-null  float64\n",
            " 8   j_tau2_b2        10000 non-null  float64\n",
            " 9   j_tau3_b2        10000 non-null  float64\n",
            " 10  j_tau32_b1       10000 non-null  float64\n",
            " 11  j_tau32_b2       10000 non-null  float64\n",
            " 12  j_zlogz          10000 non-null  float64\n",
            " 13  j_c1_b0          10000 non-null  float64\n",
            " 14  j_c1_b1          10000 non-null  float64\n",
            " 15  j_c1_b2          10000 non-null  float64\n",
            " 16  j_c2_b1          10000 non-null  float64\n",
            " 17  j_c2_b2          10000 non-null  float64\n",
            " 18  j_d2_b1          10000 non-null  float64\n",
            " 19  j_d2_b2          10000 non-null  float64\n",
            " 20  j_d2_a1_b1       10000 non-null  float64\n",
            " 21  j_d2_a1_b2       10000 non-null  float64\n",
            " 22  j_m2_b1          10000 non-null  float64\n",
            " 23  j_m2_b2          10000 non-null  float64\n",
            " 24  j_n2_b1          10000 non-null  float64\n",
            " 25  j_n2_b2          10000 non-null  float64\n",
            " 26  j_tau1_b1_mmdt   10000 non-null  float64\n",
            " 27  j_tau2_b1_mmdt   10000 non-null  float64\n",
            " 28  j_tau3_b1_mmdt   10000 non-null  float64\n",
            " 29  j_tau1_b2_mmdt   10000 non-null  float64\n",
            " 30  j_tau2_b2_mmdt   10000 non-null  float64\n",
            " 31  j_tau3_b2_mmdt   10000 non-null  float64\n",
            " 32  j_tau32_b1_mmdt  10000 non-null  float64\n",
            " 33  j_tau32_b2_mmdt  10000 non-null  float64\n",
            " 34  j_c1_b0_mmdt     10000 non-null  float64\n",
            " 35  j_c1_b1_mmdt     10000 non-null  float64\n",
            " 36  j_c1_b2_mmdt     10000 non-null  float64\n",
            " 37  j_c2_b1_mmdt     10000 non-null  float64\n",
            " 38  j_c2_b2_mmdt     10000 non-null  float64\n",
            " 39  j_d2_b1_mmdt     10000 non-null  float64\n",
            " 40  j_d2_b2_mmdt     10000 non-null  float64\n",
            " 41  j_d2_a1_b1_mmdt  10000 non-null  float64\n",
            " 42  j_d2_a1_b2_mmdt  10000 non-null  float64\n",
            " 43  j_m2_b1_mmdt     10000 non-null  float64\n",
            " 44  j_m2_b2_mmdt     10000 non-null  float64\n",
            " 45  j_n2_b1_mmdt     10000 non-null  float64\n",
            " 46  j_n2_b2_mmdt     10000 non-null  float64\n",
            " 47  j_mass_trim      10000 non-null  float64\n",
            " 48  j_mass_mmdt      10000 non-null  float64\n",
            " 49  j_mass_prun      10000 non-null  float64\n",
            " 50  j_mass_sdb2      10000 non-null  float64\n",
            " 51  j_mass_sdm1      10000 non-null  float64\n",
            " 52  j_multiplicity   10000 non-null  float64\n",
            " 53  target           10000 non-null  object \n",
            "dtypes: float64(53), object(1)\n",
            "memory usage: 4.1+ MB\n",
            "\n",
            "First 5 rows of the Dataframe:\n",
            "   j_ptfrac         j_pt     j_eta      j_mass   j_tau1_b1  j_tau2_b1  \\\n",
            "0       1.0  1015.080811  0.140886   76.495880   26.900795  18.509501   \n",
            "1       1.0  1050.538086  0.042137   81.212212   76.931221  20.120834   \n",
            "2       1.0  1017.096436  0.983565   32.378082   12.919186   8.439772   \n",
            "3       1.0  1185.474731 -1.008881  219.368683  205.640121  93.420189   \n",
            "4       1.0  1133.109131 -0.888515   74.178467   42.171444  19.598909   \n",
            "\n",
            "   j_tau3_b1  j_tau1_b2  j_tau2_b2  j_tau3_b2  ...  j_m2_b2_mmdt  \\\n",
            "0  14.211438   5.379379   2.994760   1.283431  ...      0.066155   \n",
            "1  11.993080   5.947691   0.942917   0.395835  ...      0.038634   \n",
            "2   5.244069   0.995097   0.303662   0.267116  ...      0.048102   \n",
            "3  52.173637  39.886662  13.379012   4.474773  ...      0.080403   \n",
            "4  18.466692   4.374649   1.192268   1.081973  ...      0.031107   \n",
            "\n",
            "   j_n2_b1_mmdt  j_n2_b2_mmdt  j_mass_trim  j_mass_mmdt  j_mass_prun  \\\n",
            "0      0.290213      0.178550    60.386185     2.875798    10.545803   \n",
            "1      0.240085      0.088289    81.212212    81.194130    78.364342   \n",
            "2      0.251524      0.146706    32.339310     4.691502     7.687650   \n",
            "3      0.351959      0.215218   219.368683   219.368683   219.368683   \n",
            "4      0.315460      0.137285    70.019073    66.888763    60.693222   \n",
            "\n",
            "   j_mass_sdb2  j_mass_sdm1  j_multiplicity  target  \n",
            "0    76.495880     0.000004            54.0  b'j_q'  \n",
            "1    81.194130     0.465613            44.0  b'j_w'  \n",
            "2    31.860289     0.000005            26.0  b'j_w'  \n",
            "3   219.368683   152.910950            77.0  b'j_t'  \n",
            "4    68.833763     0.482859            64.0  b'j_g'  \n",
            "\n",
            "[5 rows x 54 columns]\n",
            "\n",
            "Shape of the 'jetimage' data: (10000, 100, 100)\n",
            "This image data is stored separately in the 'jet_images' variable.\n"
          ]
        }
      ]
    },
    {
      "cell_type": "code",
      "source": [
        "df"
      ],
      "metadata": {
        "colab": {
          "base_uri": "https://localhost:8080/",
          "height": 443
        },
        "id": "krVC4aru8tQr",
        "outputId": "b82e0b69-9606-4c3f-f69a-062c2fee3def"
      },
      "execution_count": null,
      "outputs": [
        {
          "output_type": "execute_result",
          "data": {
            "text/plain": [
              "      j_ptfrac         j_pt     j_eta      j_mass   j_tau1_b1  j_tau2_b1  \\\n",
              "0          1.0  1015.080811  0.140886   76.495880   26.900795  18.509501   \n",
              "1          1.0  1050.538086  0.042137   81.212212   76.931221  20.120834   \n",
              "2          1.0  1017.096436  0.983565   32.378082   12.919186   8.439772   \n",
              "3          1.0  1185.474731 -1.008881  219.368683  205.640121  93.420189   \n",
              "4          1.0  1133.109131 -0.888515   74.178467   42.171444  19.598909   \n",
              "...        ...          ...       ...         ...         ...        ...   \n",
              "9995       1.0   959.404297 -0.432313  195.650238  170.577530  75.970222   \n",
              "9996       1.0  1302.472534 -0.134146  166.967255  111.768570  70.827522   \n",
              "9997       1.0  1006.576233 -0.743584   91.757904   44.734791  16.071255   \n",
              "9998       1.0  1028.571289 -1.030927  180.209961  151.884064  96.028992   \n",
              "9999       1.0   988.832947  0.672415   95.446426   77.476143  17.186899   \n",
              "\n",
              "      j_tau3_b1  j_tau1_b2  j_tau2_b2  j_tau3_b2  ...  j_m2_b2_mmdt  \\\n",
              "0     14.211438   5.379379   2.994760   1.283431  ...      0.066155   \n",
              "1     11.993080   5.947691   0.942917   0.395835  ...      0.038634   \n",
              "2      5.244069   0.995097   0.303662   0.267116  ...      0.048102   \n",
              "3     52.173637  39.886662  13.379012   4.474773  ...      0.080403   \n",
              "4     18.466692   4.374649   1.192268   1.081973  ...      0.031107   \n",
              "...         ...        ...        ...        ...  ...           ...   \n",
              "9995  30.297958  38.748512   8.727410   3.196265  ...      0.054113   \n",
              "9996  56.784664  19.730860   8.902312   7.353006  ...      0.058501   \n",
              "9997  12.574415   8.003141   0.703908   0.541982  ...      0.011379   \n",
              "9998  58.875259  30.611433  13.771212   5.490725  ...      0.082329   \n",
              "9999  15.793904   8.535874   1.542469   1.382016  ...      0.022374   \n",
              "\n",
              "      j_n2_b1_mmdt  j_n2_b2_mmdt  j_mass_trim  j_mass_mmdt  j_mass_prun  \\\n",
              "0         0.290213      0.178550    60.386185     2.875798    10.545803   \n",
              "1         0.240085      0.088289    81.212212    81.194130    78.364342   \n",
              "2         0.251524      0.146706    32.339310     4.691502     7.687650   \n",
              "3         0.351959      0.215218   219.368683   219.368683   219.368683   \n",
              "4         0.315460      0.137285    70.019073    66.888763    60.693222   \n",
              "...            ...           ...          ...          ...          ...   \n",
              "9995      0.286392      0.129541   194.480423   195.650238   192.390472   \n",
              "9996      0.360477      0.184856   151.831085   137.500977   125.266663   \n",
              "9997      0.261138      0.067998    91.488441    91.488441    88.698654   \n",
              "9998      0.388205      0.245733   178.093781   180.209961   175.520813   \n",
              "9999      0.198273      0.072414    90.537857    84.580284    78.320290   \n",
              "\n",
              "      j_mass_sdb2  j_mass_sdm1  j_multiplicity  target  \n",
              "0       76.495880     0.000004            54.0  b'j_q'  \n",
              "1       81.194130     0.465613            44.0  b'j_w'  \n",
              "2       31.860289     0.000005            26.0  b'j_w'  \n",
              "3      219.368683   152.910950            77.0  b'j_t'  \n",
              "4       68.833763     0.482859            64.0  b'j_g'  \n",
              "...           ...          ...             ...     ...  \n",
              "9995   195.650238   195.650238            83.0  b'j_t'  \n",
              "9996   166.328644     0.143814           153.0  b'j_t'  \n",
              "9997    91.488441     0.154098            46.0  b'j_z'  \n",
              "9998   180.209961     0.137080           104.0  b'j_t'  \n",
              "9999    84.580284     0.141568            59.0  b'j_t'  \n",
              "\n",
              "[10000 rows x 54 columns]"
            ],
            "text/html": [
              "\n",
              "  <div id=\"df-0355e583-e2d1-4853-a242-be47e38ea87c\" class=\"colab-df-container\">\n",
              "    <div>\n",
              "<style scoped>\n",
              "    .dataframe tbody tr th:only-of-type {\n",
              "        vertical-align: middle;\n",
              "    }\n",
              "\n",
              "    .dataframe tbody tr th {\n",
              "        vertical-align: top;\n",
              "    }\n",
              "\n",
              "    .dataframe thead th {\n",
              "        text-align: right;\n",
              "    }\n",
              "</style>\n",
              "<table border=\"1\" class=\"dataframe\">\n",
              "  <thead>\n",
              "    <tr style=\"text-align: right;\">\n",
              "      <th></th>\n",
              "      <th>j_ptfrac</th>\n",
              "      <th>j_pt</th>\n",
              "      <th>j_eta</th>\n",
              "      <th>j_mass</th>\n",
              "      <th>j_tau1_b1</th>\n",
              "      <th>j_tau2_b1</th>\n",
              "      <th>j_tau3_b1</th>\n",
              "      <th>j_tau1_b2</th>\n",
              "      <th>j_tau2_b2</th>\n",
              "      <th>j_tau3_b2</th>\n",
              "      <th>...</th>\n",
              "      <th>j_m2_b2_mmdt</th>\n",
              "      <th>j_n2_b1_mmdt</th>\n",
              "      <th>j_n2_b2_mmdt</th>\n",
              "      <th>j_mass_trim</th>\n",
              "      <th>j_mass_mmdt</th>\n",
              "      <th>j_mass_prun</th>\n",
              "      <th>j_mass_sdb2</th>\n",
              "      <th>j_mass_sdm1</th>\n",
              "      <th>j_multiplicity</th>\n",
              "      <th>target</th>\n",
              "    </tr>\n",
              "  </thead>\n",
              "  <tbody>\n",
              "    <tr>\n",
              "      <th>0</th>\n",
              "      <td>1.0</td>\n",
              "      <td>1015.080811</td>\n",
              "      <td>0.140886</td>\n",
              "      <td>76.495880</td>\n",
              "      <td>26.900795</td>\n",
              "      <td>18.509501</td>\n",
              "      <td>14.211438</td>\n",
              "      <td>5.379379</td>\n",
              "      <td>2.994760</td>\n",
              "      <td>1.283431</td>\n",
              "      <td>...</td>\n",
              "      <td>0.066155</td>\n",
              "      <td>0.290213</td>\n",
              "      <td>0.178550</td>\n",
              "      <td>60.386185</td>\n",
              "      <td>2.875798</td>\n",
              "      <td>10.545803</td>\n",
              "      <td>76.495880</td>\n",
              "      <td>0.000004</td>\n",
              "      <td>54.0</td>\n",
              "      <td>b'j_q'</td>\n",
              "    </tr>\n",
              "    <tr>\n",
              "      <th>1</th>\n",
              "      <td>1.0</td>\n",
              "      <td>1050.538086</td>\n",
              "      <td>0.042137</td>\n",
              "      <td>81.212212</td>\n",
              "      <td>76.931221</td>\n",
              "      <td>20.120834</td>\n",
              "      <td>11.993080</td>\n",
              "      <td>5.947691</td>\n",
              "      <td>0.942917</td>\n",
              "      <td>0.395835</td>\n",
              "      <td>...</td>\n",
              "      <td>0.038634</td>\n",
              "      <td>0.240085</td>\n",
              "      <td>0.088289</td>\n",
              "      <td>81.212212</td>\n",
              "      <td>81.194130</td>\n",
              "      <td>78.364342</td>\n",
              "      <td>81.194130</td>\n",
              "      <td>0.465613</td>\n",
              "      <td>44.0</td>\n",
              "      <td>b'j_w'</td>\n",
              "    </tr>\n",
              "    <tr>\n",
              "      <th>2</th>\n",
              "      <td>1.0</td>\n",
              "      <td>1017.096436</td>\n",
              "      <td>0.983565</td>\n",
              "      <td>32.378082</td>\n",
              "      <td>12.919186</td>\n",
              "      <td>8.439772</td>\n",
              "      <td>5.244069</td>\n",
              "      <td>0.995097</td>\n",
              "      <td>0.303662</td>\n",
              "      <td>0.267116</td>\n",
              "      <td>...</td>\n",
              "      <td>0.048102</td>\n",
              "      <td>0.251524</td>\n",
              "      <td>0.146706</td>\n",
              "      <td>32.339310</td>\n",
              "      <td>4.691502</td>\n",
              "      <td>7.687650</td>\n",
              "      <td>31.860289</td>\n",
              "      <td>0.000005</td>\n",
              "      <td>26.0</td>\n",
              "      <td>b'j_w'</td>\n",
              "    </tr>\n",
              "    <tr>\n",
              "      <th>3</th>\n",
              "      <td>1.0</td>\n",
              "      <td>1185.474731</td>\n",
              "      <td>-1.008881</td>\n",
              "      <td>219.368683</td>\n",
              "      <td>205.640121</td>\n",
              "      <td>93.420189</td>\n",
              "      <td>52.173637</td>\n",
              "      <td>39.886662</td>\n",
              "      <td>13.379012</td>\n",
              "      <td>4.474773</td>\n",
              "      <td>...</td>\n",
              "      <td>0.080403</td>\n",
              "      <td>0.351959</td>\n",
              "      <td>0.215218</td>\n",
              "      <td>219.368683</td>\n",
              "      <td>219.368683</td>\n",
              "      <td>219.368683</td>\n",
              "      <td>219.368683</td>\n",
              "      <td>152.910950</td>\n",
              "      <td>77.0</td>\n",
              "      <td>b'j_t'</td>\n",
              "    </tr>\n",
              "    <tr>\n",
              "      <th>4</th>\n",
              "      <td>1.0</td>\n",
              "      <td>1133.109131</td>\n",
              "      <td>-0.888515</td>\n",
              "      <td>74.178467</td>\n",
              "      <td>42.171444</td>\n",
              "      <td>19.598909</td>\n",
              "      <td>18.466692</td>\n",
              "      <td>4.374649</td>\n",
              "      <td>1.192268</td>\n",
              "      <td>1.081973</td>\n",
              "      <td>...</td>\n",
              "      <td>0.031107</td>\n",
              "      <td>0.315460</td>\n",
              "      <td>0.137285</td>\n",
              "      <td>70.019073</td>\n",
              "      <td>66.888763</td>\n",
              "      <td>60.693222</td>\n",
              "      <td>68.833763</td>\n",
              "      <td>0.482859</td>\n",
              "      <td>64.0</td>\n",
              "      <td>b'j_g'</td>\n",
              "    </tr>\n",
              "    <tr>\n",
              "      <th>...</th>\n",
              "      <td>...</td>\n",
              "      <td>...</td>\n",
              "      <td>...</td>\n",
              "      <td>...</td>\n",
              "      <td>...</td>\n",
              "      <td>...</td>\n",
              "      <td>...</td>\n",
              "      <td>...</td>\n",
              "      <td>...</td>\n",
              "      <td>...</td>\n",
              "      <td>...</td>\n",
              "      <td>...</td>\n",
              "      <td>...</td>\n",
              "      <td>...</td>\n",
              "      <td>...</td>\n",
              "      <td>...</td>\n",
              "      <td>...</td>\n",
              "      <td>...</td>\n",
              "      <td>...</td>\n",
              "      <td>...</td>\n",
              "      <td>...</td>\n",
              "    </tr>\n",
              "    <tr>\n",
              "      <th>9995</th>\n",
              "      <td>1.0</td>\n",
              "      <td>959.404297</td>\n",
              "      <td>-0.432313</td>\n",
              "      <td>195.650238</td>\n",
              "      <td>170.577530</td>\n",
              "      <td>75.970222</td>\n",
              "      <td>30.297958</td>\n",
              "      <td>38.748512</td>\n",
              "      <td>8.727410</td>\n",
              "      <td>3.196265</td>\n",
              "      <td>...</td>\n",
              "      <td>0.054113</td>\n",
              "      <td>0.286392</td>\n",
              "      <td>0.129541</td>\n",
              "      <td>194.480423</td>\n",
              "      <td>195.650238</td>\n",
              "      <td>192.390472</td>\n",
              "      <td>195.650238</td>\n",
              "      <td>195.650238</td>\n",
              "      <td>83.0</td>\n",
              "      <td>b'j_t'</td>\n",
              "    </tr>\n",
              "    <tr>\n",
              "      <th>9996</th>\n",
              "      <td>1.0</td>\n",
              "      <td>1302.472534</td>\n",
              "      <td>-0.134146</td>\n",
              "      <td>166.967255</td>\n",
              "      <td>111.768570</td>\n",
              "      <td>70.827522</td>\n",
              "      <td>56.784664</td>\n",
              "      <td>19.730860</td>\n",
              "      <td>8.902312</td>\n",
              "      <td>7.353006</td>\n",
              "      <td>...</td>\n",
              "      <td>0.058501</td>\n",
              "      <td>0.360477</td>\n",
              "      <td>0.184856</td>\n",
              "      <td>151.831085</td>\n",
              "      <td>137.500977</td>\n",
              "      <td>125.266663</td>\n",
              "      <td>166.328644</td>\n",
              "      <td>0.143814</td>\n",
              "      <td>153.0</td>\n",
              "      <td>b'j_t'</td>\n",
              "    </tr>\n",
              "    <tr>\n",
              "      <th>9997</th>\n",
              "      <td>1.0</td>\n",
              "      <td>1006.576233</td>\n",
              "      <td>-0.743584</td>\n",
              "      <td>91.757904</td>\n",
              "      <td>44.734791</td>\n",
              "      <td>16.071255</td>\n",
              "      <td>12.574415</td>\n",
              "      <td>8.003141</td>\n",
              "      <td>0.703908</td>\n",
              "      <td>0.541982</td>\n",
              "      <td>...</td>\n",
              "      <td>0.011379</td>\n",
              "      <td>0.261138</td>\n",
              "      <td>0.067998</td>\n",
              "      <td>91.488441</td>\n",
              "      <td>91.488441</td>\n",
              "      <td>88.698654</td>\n",
              "      <td>91.488441</td>\n",
              "      <td>0.154098</td>\n",
              "      <td>46.0</td>\n",
              "      <td>b'j_z'</td>\n",
              "    </tr>\n",
              "    <tr>\n",
              "      <th>9998</th>\n",
              "      <td>1.0</td>\n",
              "      <td>1028.571289</td>\n",
              "      <td>-1.030927</td>\n",
              "      <td>180.209961</td>\n",
              "      <td>151.884064</td>\n",
              "      <td>96.028992</td>\n",
              "      <td>58.875259</td>\n",
              "      <td>30.611433</td>\n",
              "      <td>13.771212</td>\n",
              "      <td>5.490725</td>\n",
              "      <td>...</td>\n",
              "      <td>0.082329</td>\n",
              "      <td>0.388205</td>\n",
              "      <td>0.245733</td>\n",
              "      <td>178.093781</td>\n",
              "      <td>180.209961</td>\n",
              "      <td>175.520813</td>\n",
              "      <td>180.209961</td>\n",
              "      <td>0.137080</td>\n",
              "      <td>104.0</td>\n",
              "      <td>b'j_t'</td>\n",
              "    </tr>\n",
              "    <tr>\n",
              "      <th>9999</th>\n",
              "      <td>1.0</td>\n",
              "      <td>988.832947</td>\n",
              "      <td>0.672415</td>\n",
              "      <td>95.446426</td>\n",
              "      <td>77.476143</td>\n",
              "      <td>17.186899</td>\n",
              "      <td>15.793904</td>\n",
              "      <td>8.535874</td>\n",
              "      <td>1.542469</td>\n",
              "      <td>1.382016</td>\n",
              "      <td>...</td>\n",
              "      <td>0.022374</td>\n",
              "      <td>0.198273</td>\n",
              "      <td>0.072414</td>\n",
              "      <td>90.537857</td>\n",
              "      <td>84.580284</td>\n",
              "      <td>78.320290</td>\n",
              "      <td>84.580284</td>\n",
              "      <td>0.141568</td>\n",
              "      <td>59.0</td>\n",
              "      <td>b'j_t'</td>\n",
              "    </tr>\n",
              "  </tbody>\n",
              "</table>\n",
              "<p>10000 rows × 54 columns</p>\n",
              "</div>\n",
              "    <div class=\"colab-df-buttons\">\n",
              "\n",
              "  <div class=\"colab-df-container\">\n",
              "    <button class=\"colab-df-convert\" onclick=\"convertToInteractive('df-0355e583-e2d1-4853-a242-be47e38ea87c')\"\n",
              "            title=\"Convert this dataframe to an interactive table.\"\n",
              "            style=\"display:none;\">\n",
              "\n",
              "  <svg xmlns=\"http://www.w3.org/2000/svg\" height=\"24px\" viewBox=\"0 -960 960 960\">\n",
              "    <path d=\"M120-120v-720h720v720H120Zm60-500h600v-160H180v160Zm220 220h160v-160H400v160Zm0 220h160v-160H400v160ZM180-400h160v-160H180v160Zm440 0h160v-160H620v160ZM180-180h160v-160H180v160Zm440 0h160v-160H620v160Z\"/>\n",
              "  </svg>\n",
              "    </button>\n",
              "\n",
              "  <style>\n",
              "    .colab-df-container {\n",
              "      display:flex;\n",
              "      gap: 12px;\n",
              "    }\n",
              "\n",
              "    .colab-df-convert {\n",
              "      background-color: #E8F0FE;\n",
              "      border: none;\n",
              "      border-radius: 50%;\n",
              "      cursor: pointer;\n",
              "      display: none;\n",
              "      fill: #1967D2;\n",
              "      height: 32px;\n",
              "      padding: 0 0 0 0;\n",
              "      width: 32px;\n",
              "    }\n",
              "\n",
              "    .colab-df-convert:hover {\n",
              "      background-color: #E2EBFA;\n",
              "      box-shadow: 0px 1px 2px rgba(60, 64, 67, 0.3), 0px 1px 3px 1px rgba(60, 64, 67, 0.15);\n",
              "      fill: #174EA6;\n",
              "    }\n",
              "\n",
              "    .colab-df-buttons div {\n",
              "      margin-bottom: 4px;\n",
              "    }\n",
              "\n",
              "    [theme=dark] .colab-df-convert {\n",
              "      background-color: #3B4455;\n",
              "      fill: #D2E3FC;\n",
              "    }\n",
              "\n",
              "    [theme=dark] .colab-df-convert:hover {\n",
              "      background-color: #434B5C;\n",
              "      box-shadow: 0px 1px 3px 1px rgba(0, 0, 0, 0.15);\n",
              "      filter: drop-shadow(0px 1px 2px rgba(0, 0, 0, 0.3));\n",
              "      fill: #FFFFFF;\n",
              "    }\n",
              "  </style>\n",
              "\n",
              "    <script>\n",
              "      const buttonEl =\n",
              "        document.querySelector('#df-0355e583-e2d1-4853-a242-be47e38ea87c button.colab-df-convert');\n",
              "      buttonEl.style.display =\n",
              "        google.colab.kernel.accessAllowed ? 'block' : 'none';\n",
              "\n",
              "      async function convertToInteractive(key) {\n",
              "        const element = document.querySelector('#df-0355e583-e2d1-4853-a242-be47e38ea87c');\n",
              "        const dataTable =\n",
              "          await google.colab.kernel.invokeFunction('convertToInteractive',\n",
              "                                                    [key], {});\n",
              "        if (!dataTable) return;\n",
              "\n",
              "        const docLinkHtml = 'Like what you see? Visit the ' +\n",
              "          '<a target=\"_blank\" href=https://colab.research.google.com/notebooks/data_table.ipynb>data table notebook</a>'\n",
              "          + ' to learn more about interactive tables.';\n",
              "        element.innerHTML = '';\n",
              "        dataTable['output_type'] = 'display_data';\n",
              "        await google.colab.output.renderOutput(dataTable, element);\n",
              "        const docLink = document.createElement('div');\n",
              "        docLink.innerHTML = docLinkHtml;\n",
              "        element.appendChild(docLink);\n",
              "      }\n",
              "    </script>\n",
              "  </div>\n",
              "\n",
              "\n",
              "    <div id=\"df-8c6243a8-260f-415a-b431-7333e143c86c\">\n",
              "      <button class=\"colab-df-quickchart\" onclick=\"quickchart('df-8c6243a8-260f-415a-b431-7333e143c86c')\"\n",
              "                title=\"Suggest charts\"\n",
              "                style=\"display:none;\">\n",
              "\n",
              "<svg xmlns=\"http://www.w3.org/2000/svg\" height=\"24px\"viewBox=\"0 0 24 24\"\n",
              "     width=\"24px\">\n",
              "    <g>\n",
              "        <path d=\"M19 3H5c-1.1 0-2 .9-2 2v14c0 1.1.9 2 2 2h14c1.1 0 2-.9 2-2V5c0-1.1-.9-2-2-2zM9 17H7v-7h2v7zm4 0h-2V7h2v10zm4 0h-2v-4h2v4z\"/>\n",
              "    </g>\n",
              "</svg>\n",
              "      </button>\n",
              "\n",
              "<style>\n",
              "  .colab-df-quickchart {\n",
              "      --bg-color: #E8F0FE;\n",
              "      --fill-color: #1967D2;\n",
              "      --hover-bg-color: #E2EBFA;\n",
              "      --hover-fill-color: #174EA6;\n",
              "      --disabled-fill-color: #AAA;\n",
              "      --disabled-bg-color: #DDD;\n",
              "  }\n",
              "\n",
              "  [theme=dark] .colab-df-quickchart {\n",
              "      --bg-color: #3B4455;\n",
              "      --fill-color: #D2E3FC;\n",
              "      --hover-bg-color: #434B5C;\n",
              "      --hover-fill-color: #FFFFFF;\n",
              "      --disabled-bg-color: #3B4455;\n",
              "      --disabled-fill-color: #666;\n",
              "  }\n",
              "\n",
              "  .colab-df-quickchart {\n",
              "    background-color: var(--bg-color);\n",
              "    border: none;\n",
              "    border-radius: 50%;\n",
              "    cursor: pointer;\n",
              "    display: none;\n",
              "    fill: var(--fill-color);\n",
              "    height: 32px;\n",
              "    padding: 0;\n",
              "    width: 32px;\n",
              "  }\n",
              "\n",
              "  .colab-df-quickchart:hover {\n",
              "    background-color: var(--hover-bg-color);\n",
              "    box-shadow: 0 1px 2px rgba(60, 64, 67, 0.3), 0 1px 3px 1px rgba(60, 64, 67, 0.15);\n",
              "    fill: var(--button-hover-fill-color);\n",
              "  }\n",
              "\n",
              "  .colab-df-quickchart-complete:disabled,\n",
              "  .colab-df-quickchart-complete:disabled:hover {\n",
              "    background-color: var(--disabled-bg-color);\n",
              "    fill: var(--disabled-fill-color);\n",
              "    box-shadow: none;\n",
              "  }\n",
              "\n",
              "  .colab-df-spinner {\n",
              "    border: 2px solid var(--fill-color);\n",
              "    border-color: transparent;\n",
              "    border-bottom-color: var(--fill-color);\n",
              "    animation:\n",
              "      spin 1s steps(1) infinite;\n",
              "  }\n",
              "\n",
              "  @keyframes spin {\n",
              "    0% {\n",
              "      border-color: transparent;\n",
              "      border-bottom-color: var(--fill-color);\n",
              "      border-left-color: var(--fill-color);\n",
              "    }\n",
              "    20% {\n",
              "      border-color: transparent;\n",
              "      border-left-color: var(--fill-color);\n",
              "      border-top-color: var(--fill-color);\n",
              "    }\n",
              "    30% {\n",
              "      border-color: transparent;\n",
              "      border-left-color: var(--fill-color);\n",
              "      border-top-color: var(--fill-color);\n",
              "      border-right-color: var(--fill-color);\n",
              "    }\n",
              "    40% {\n",
              "      border-color: transparent;\n",
              "      border-right-color: var(--fill-color);\n",
              "      border-top-color: var(--fill-color);\n",
              "    }\n",
              "    60% {\n",
              "      border-color: transparent;\n",
              "      border-right-color: var(--fill-color);\n",
              "    }\n",
              "    80% {\n",
              "      border-color: transparent;\n",
              "      border-right-color: var(--fill-color);\n",
              "      border-bottom-color: var(--fill-color);\n",
              "    }\n",
              "    90% {\n",
              "      border-color: transparent;\n",
              "      border-bottom-color: var(--fill-color);\n",
              "    }\n",
              "  }\n",
              "</style>\n",
              "\n",
              "      <script>\n",
              "        async function quickchart(key) {\n",
              "          const quickchartButtonEl =\n",
              "            document.querySelector('#' + key + ' button');\n",
              "          quickchartButtonEl.disabled = true;  // To prevent multiple clicks.\n",
              "          quickchartButtonEl.classList.add('colab-df-spinner');\n",
              "          try {\n",
              "            const charts = await google.colab.kernel.invokeFunction(\n",
              "                'suggestCharts', [key], {});\n",
              "          } catch (error) {\n",
              "            console.error('Error during call to suggestCharts:', error);\n",
              "          }\n",
              "          quickchartButtonEl.classList.remove('colab-df-spinner');\n",
              "          quickchartButtonEl.classList.add('colab-df-quickchart-complete');\n",
              "        }\n",
              "        (() => {\n",
              "          let quickchartButtonEl =\n",
              "            document.querySelector('#df-8c6243a8-260f-415a-b431-7333e143c86c button');\n",
              "          quickchartButtonEl.style.display =\n",
              "            google.colab.kernel.accessAllowed ? 'block' : 'none';\n",
              "        })();\n",
              "      </script>\n",
              "    </div>\n",
              "\n",
              "  <div id=\"id_131f3083-5d8f-448d-8b87-55a129f6837e\">\n",
              "    <style>\n",
              "      .colab-df-generate {\n",
              "        background-color: #E8F0FE;\n",
              "        border: none;\n",
              "        border-radius: 50%;\n",
              "        cursor: pointer;\n",
              "        display: none;\n",
              "        fill: #1967D2;\n",
              "        height: 32px;\n",
              "        padding: 0 0 0 0;\n",
              "        width: 32px;\n",
              "      }\n",
              "\n",
              "      .colab-df-generate:hover {\n",
              "        background-color: #E2EBFA;\n",
              "        box-shadow: 0px 1px 2px rgba(60, 64, 67, 0.3), 0px 1px 3px 1px rgba(60, 64, 67, 0.15);\n",
              "        fill: #174EA6;\n",
              "      }\n",
              "\n",
              "      [theme=dark] .colab-df-generate {\n",
              "        background-color: #3B4455;\n",
              "        fill: #D2E3FC;\n",
              "      }\n",
              "\n",
              "      [theme=dark] .colab-df-generate:hover {\n",
              "        background-color: #434B5C;\n",
              "        box-shadow: 0px 1px 3px 1px rgba(0, 0, 0, 0.15);\n",
              "        filter: drop-shadow(0px 1px 2px rgba(0, 0, 0, 0.3));\n",
              "        fill: #FFFFFF;\n",
              "      }\n",
              "    </style>\n",
              "    <button class=\"colab-df-generate\" onclick=\"generateWithVariable('df')\"\n",
              "            title=\"Generate code using this dataframe.\"\n",
              "            style=\"display:none;\">\n",
              "\n",
              "  <svg xmlns=\"http://www.w3.org/2000/svg\" height=\"24px\"viewBox=\"0 0 24 24\"\n",
              "       width=\"24px\">\n",
              "    <path d=\"M7,19H8.4L18.45,9,17,7.55,7,17.6ZM5,21V16.75L18.45,3.32a2,2,0,0,1,2.83,0l1.4,1.43a1.91,1.91,0,0,1,.58,1.4,1.91,1.91,0,0,1-.58,1.4L9.25,21ZM18.45,9,17,7.55Zm-12,3A5.31,5.31,0,0,0,4.9,8.1,5.31,5.31,0,0,0,1,6.5,5.31,5.31,0,0,0,4.9,4.9,5.31,5.31,0,0,0,6.5,1,5.31,5.31,0,0,0,8.1,4.9,5.31,5.31,0,0,0,12,6.5,5.46,5.46,0,0,0,6.5,12Z\"/>\n",
              "  </svg>\n",
              "    </button>\n",
              "    <script>\n",
              "      (() => {\n",
              "      const buttonEl =\n",
              "        document.querySelector('#id_131f3083-5d8f-448d-8b87-55a129f6837e button.colab-df-generate');\n",
              "      buttonEl.style.display =\n",
              "        google.colab.kernel.accessAllowed ? 'block' : 'none';\n",
              "\n",
              "      buttonEl.onclick = () => {\n",
              "        google.colab.notebook.generateWithVariable('df');\n",
              "      }\n",
              "      })();\n",
              "    </script>\n",
              "  </div>\n",
              "\n",
              "    </div>\n",
              "  </div>\n"
            ],
            "application/vnd.google.colaboratory.intrinsic+json": {
              "type": "dataframe",
              "variable_name": "df"
            }
          },
          "metadata": {},
          "execution_count": 7
        }
      ]
    },
    {
      "cell_type": "markdown",
      "source": [
        "## **Checking the Missing Values**"
      ],
      "metadata": {
        "id": "yg0IfRn3Qp9i"
      }
    },
    {
      "cell_type": "code",
      "source": [
        "print(\"Checking for missing values in each column:\")\n",
        "missing_values = df.isnull().sum()\n",
        "print(missing_values)\n",
        "if missing_values.sum() == 0:\n",
        "    print(\"\\nGreat! No missing values were found in the dataset.\")\n",
        "else:\n",
        "    print(\"\\nMissing values were found. You will need to apply an imputation strategy.\")"
      ],
      "metadata": {
        "colab": {
          "base_uri": "https://localhost:8080/"
        },
        "id": "qIi-NVQq8tur",
        "outputId": "3c092c27-6644-4e3c-cf6b-5024a273e242"
      },
      "execution_count": null,
      "outputs": [
        {
          "output_type": "stream",
          "name": "stdout",
          "text": [
            "Checking for missing values in each column:\n",
            "j_ptfrac           0\n",
            "j_pt               0\n",
            "j_eta              0\n",
            "j_mass             0\n",
            "j_tau1_b1          0\n",
            "j_tau2_b1          0\n",
            "j_tau3_b1          0\n",
            "j_tau1_b2          0\n",
            "j_tau2_b2          0\n",
            "j_tau3_b2          0\n",
            "j_tau32_b1         0\n",
            "j_tau32_b2         0\n",
            "j_zlogz            0\n",
            "j_c1_b0            0\n",
            "j_c1_b1            0\n",
            "j_c1_b2            0\n",
            "j_c2_b1            0\n",
            "j_c2_b2            0\n",
            "j_d2_b1            0\n",
            "j_d2_b2            0\n",
            "j_d2_a1_b1         0\n",
            "j_d2_a1_b2         0\n",
            "j_m2_b1            0\n",
            "j_m2_b2            0\n",
            "j_n2_b1            0\n",
            "j_n2_b2            0\n",
            "j_tau1_b1_mmdt     0\n",
            "j_tau2_b1_mmdt     0\n",
            "j_tau3_b1_mmdt     0\n",
            "j_tau1_b2_mmdt     0\n",
            "j_tau2_b2_mmdt     0\n",
            "j_tau3_b2_mmdt     0\n",
            "j_tau32_b1_mmdt    0\n",
            "j_tau32_b2_mmdt    0\n",
            "j_c1_b0_mmdt       0\n",
            "j_c1_b1_mmdt       0\n",
            "j_c1_b2_mmdt       0\n",
            "j_c2_b1_mmdt       0\n",
            "j_c2_b2_mmdt       0\n",
            "j_d2_b1_mmdt       0\n",
            "j_d2_b2_mmdt       0\n",
            "j_d2_a1_b1_mmdt    0\n",
            "j_d2_a1_b2_mmdt    0\n",
            "j_m2_b1_mmdt       0\n",
            "j_m2_b2_mmdt       0\n",
            "j_n2_b1_mmdt       0\n",
            "j_n2_b2_mmdt       0\n",
            "j_mass_trim        0\n",
            "j_mass_mmdt        0\n",
            "j_mass_prun        0\n",
            "j_mass_sdb2        0\n",
            "j_mass_sdm1        0\n",
            "j_multiplicity     0\n",
            "target             0\n",
            "dtype: int64\n",
            "\n",
            "Great! No missing values were found in the dataset.\n"
          ]
        }
      ]
    },
    {
      "cell_type": "markdown",
      "source": [
        "**Applying Imputation strategies for numerical features**"
      ],
      "metadata": {
        "id": "ibi7W8MyQ2Da"
      }
    },
    {
      "cell_type": "code",
      "source": [
        "if df.isnull().sum().sum() > 0:\n",
        "    print(\"Missing values found. Applying imputation...\")\n",
        "    imputer = SimpleImputer(strategy='mean')\n",
        "    df_imputed = pd.DataFrame(imputer.fit_transform(df), columns=df.columns)\n",
        "    print(\"\\nMissing values after imputation:\")\n",
        "    print(df_imputed.isnull().sum())\n",
        "    print(\"\\nOriginal DataFrame head (may show NaN):\")\n",
        "    print(df.head())\n",
        "    print(\"\\nImputed DataFrame head:\")\n",
        "    print(df_imputed.head())\n",
        "else:\n",
        "    print(\"No missing values were found to impute.\")\n",
        "    df_imputed = df.copy()"
      ],
      "metadata": {
        "colab": {
          "base_uri": "https://localhost:8080/"
        },
        "id": "0EcpUmGV8w9q",
        "outputId": "ce670fd9-5e2e-45ef-b343-29211bca309e"
      },
      "execution_count": null,
      "outputs": [
        {
          "output_type": "stream",
          "name": "stdout",
          "text": [
            "No missing values were found to impute.\n"
          ]
        }
      ]
    },
    {
      "cell_type": "markdown",
      "source": [
        "# **1.2 Tabular Data Preparation**"
      ],
      "metadata": {
        "id": "n8qJwvRrQ7E3"
      }
    },
    {
      "cell_type": "code",
      "source": [
        "X = df_imputed.drop('target', axis=1)\n",
        "y = df_imputed['target']\n",
        "\n",
        "# 1. Compute the eigenvalues and eigenvectors of the covariance matrix.\n",
        "scaler = StandardScaler()\n",
        "X_scaled = scaler.fit_transform(X)\n",
        "\n",
        "# 2. Perform PCA\n",
        "print(\"Performing PCA:\")\n",
        "pca = PCA()\n",
        "X_pca = pca.fit_transform(X_scaled)\n",
        "\n",
        "# 3. Report the explained variance ratio for the top principal components.\n",
        "explained_variance_ratio = pca.explained_variance_ratio_\n",
        "cumulative_variance = np.cumsum(explained_variance_ratio)\n",
        "print(\"\\nExplained variance by each principal component:\")\n",
        "for i, ratio in enumerate(explained_variance_ratio[:10]):\n",
        "    print(f\"  PC-{i+1}: {ratio:.4f} (Cumulative: {cumulative_variance[i]:.4f})\")\n",
        "\n",
        "# 4.  Plot a scree plot to visualise variance captured per component.\n",
        "plt.style.use(\"seaborn-v0_8-whitegrid\")\n",
        "plt.figure(figsize=(10, 6))\n",
        "plt.plot(range(1, len(explained_variance_ratio) + 1), explained_variance_ratio, 'o-', label='Individual component variance')\n",
        "plt.plot(range(1, len(cumulative_variance) + 1), cumulative_variance, 'o-', label='Cumulative variance')\n",
        "plt.ylabel('Explained variance ratio')\n",
        "plt.xlabel('Principal component')\n",
        "plt.title('Scree Plot for PCA')\n",
        "plt.legend(loc='best')\n",
        "plt.xticks(np.arange(1, X.shape[1] + 1, 2))\n",
        "plt.grid(True)\n",
        "plt.show()"
      ],
      "metadata": {
        "colab": {
          "base_uri": "https://localhost:8080/",
          "height": 783
        },
        "id": "X8LQXR4v8yoE",
        "outputId": "6c7fe46b-0e74-44af-e893-e4e1368895c5"
      },
      "execution_count": null,
      "outputs": [
        {
          "output_type": "stream",
          "name": "stdout",
          "text": [
            "Performing PCA:\n",
            "\n",
            "Explained variance by each principal component:\n",
            "  PC-1: 0.4440 (Cumulative: 0.4440)\n",
            "  PC-2: 0.2276 (Cumulative: 0.6716)\n",
            "  PC-3: 0.0801 (Cumulative: 0.7517)\n",
            "  PC-4: 0.0437 (Cumulative: 0.7954)\n",
            "  PC-5: 0.0356 (Cumulative: 0.8309)\n",
            "  PC-6: 0.0230 (Cumulative: 0.8540)\n",
            "  PC-7: 0.0221 (Cumulative: 0.8761)\n",
            "  PC-8: 0.0193 (Cumulative: 0.8954)\n",
            "  PC-9: 0.0190 (Cumulative: 0.9144)\n",
            "  PC-10: 0.0164 (Cumulative: 0.9308)\n"
          ]
        },
        {
          "output_type": "display_data",
          "data": {
            "text/plain": [
              "<Figure size 1000x600 with 1 Axes>"
            ],
            "image/png": "[encoded data removed]"
          },
          "metadata": {}
        }
      ]
    },
    {
      "cell_type": "markdown",
      "source": [
        "## **1.3 Dataset Summary**"
      ],
      "metadata": {
        "id": "BNppkXZkRCcS"
      }
    },
    {
      "cell_type": "code",
      "source": [
        "print(\"--- Dataset Summary ---\")\n",
        "# Number of rows (jets) and tabular features\n",
        "num_rows, num_features = df_imputed.drop('target', axis=1).shape\n",
        "print(f\"Number of rows (records): {num_rows}\")\n",
        "print(f\"Number of tabular features: {num_features}\")\n",
        "\n",
        "# Image size\n",
        "num_images, height, width = jet_images.shape\n",
        "print(f\"Image size (Height x Width): {height}x{width}\")\n",
        "\n",
        "# Number of target classes\n",
        "num_classes = df_imputed['target'].nunique()\n",
        "print(f\"Number of classes: {num_classes}\")\n",
        "print(f\"Class labels: {sorted(df_imputed['target'].unique())}\")\n",
        "\n",
        "# --- 2. Provide Distribution Plots ---\n",
        "features_to_plot = ['j_pt', 'j_mass']\n",
        "\n",
        "# Set up the plotting style\n",
        "plt.style.use(\"seaborn-v0_8-whitegrid\")\n",
        "fig, axes = plt.subplots(1, 2, figsize=(16, 6))\n",
        "fig.suptitle('Distribution of Selected Jet Features', fontsize=16)\n",
        "\n",
        "# Create a histogram for each selected feature\n",
        "for i, feature in enumerate(features_to_plot):\n",
        "    sns.histplot(data=df_imputed, x=feature, kde=True, ax=axes[i], bins=50)\n",
        "    axes[i].set_title(f'Distribution of {feature}')\n",
        "    axes[i].set_xlabel(feature)\n",
        "    axes[i].set_ylabel('Frequency')\n",
        "\n",
        "plt.tight_layout(rect=[0, 0.03, 1, 0.95])\n",
        "plt.show()"
      ],
      "metadata": {
        "colab": {
          "base_uri": "https://localhost:8080/",
          "height": 517
        },
        "id": "NVkI3qNe80F7",
        "outputId": "113d47e8-c207-4667-8b66-700673d044cc"
      },
      "execution_count": null,
      "outputs": [
        {
          "output_type": "stream",
          "name": "stdout",
          "text": [
            "--- Dataset Summary ---\n",
            "Number of rows (records): 10000\n",
            "Number of tabular features: 53\n",
            "Image size (Height x Width): 100x100\n",
            "Number of classes: 5\n",
            "Class labels: [b'j_g', b'j_q', b'j_t', b'j_w', b'j_z']\n"
          ]
        },
        {
          "output_type": "display_data",
          "data": {
            "text/plain": [
              "<Figure size 1600x600 with 2 Axes>"
            ],
            "image/png": "[encoded data removed]"
          },
          "metadata": {}
        }
      ]
    },
    {
      "cell_type": "markdown",
      "source": [
        "## **2. Model Development**"
      ],
      "metadata": {
        "id": "ujpu_lGqR8ab"
      }
    },
    {
      "cell_type": "markdown",
      "source": [
        "**Load and preprocess validation data**"
      ],
      "metadata": {
        "id": "j2MDHwL6SG0m"
      }
    },
    {
      "cell_type": "code",
      "metadata": {
        "colab": {
          "base_uri": "https://localhost:8080/"
        },
        "id": "2ccd9641",
        "outputId": "18ea28ca-db49-4755-a108-53475c602cdc"
      },
      "source": [
        "val_file_path = '/content/validation_data/jetImage_8_30p_10000_20000.h5'\n",
        "try:\n",
        "    with h5py.File(val_file_path, 'r') as hf_val:\n",
        "        val_jet_images = hf_val['jetImage'][:]\n",
        "    print(f\"Successfully loaded validation jet images from {val_file_path}\")\n",
        "    val_jet_images_scaled = val_jet_images / 255.0\n",
        "    val_jet_images_reshaped = np.expand_dims(val_jet_images_scaled, axis=-1)\n",
        "    print(f\"Scaled and reshaped validation images. New shape: {val_jet_images_reshaped.shape}\")\n",
        "except IOError:\n",
        "    print(f\"Error: Could not read the validation file at {val_file_path}\")\n",
        "except Exception as e:\n",
        "    print(f\"An error occurred during validation data loading/preprocessing: {e}\")"
      ],
      "execution_count": null,
      "outputs": [
        {
          "output_type": "stream",
          "name": "stdout",
          "text": [
            "Successfully loaded validation jet images from /content/validation_data/jetImage_8_30p_10000_20000.h5\n",
            "Scaled and reshaped validation images. New shape: (10000, 100, 100, 1)\n"
          ]
        }
      ]
    },
    {
      "cell_type": "markdown",
      "metadata": {
        "id": "5e917284"
      },
      "source": [
        "**Prepare the target variable**\n"
      ]
    },
    {
      "cell_type": "code",
      "metadata": {
        "colab": {
          "base_uri": "https://localhost:8080/"
        },
        "id": "c87524ea",
        "outputId": "5b0f1459-887a-4e0a-ee08-1b148cd3ba76"
      },
      "source": [
        "# Encode the target variable\n",
        "y_encoded = to_categorical(y.astype('category').cat.codes)\n",
        "\n",
        "# Print the shapes to verify\n",
        "print(\"Shape of original target variable (y):\", y.shape)\n",
        "print(\"Shape of encoded target variable (y_encoded):\", y_encoded.shape)"
      ],
      "execution_count": null,
      "outputs": [
        {
          "output_type": "stream",
          "name": "stderr",
          "text": [
            "/usr/local/lib/python3.12/dist-packages/jax/_src/cloud_tpu_init.py:82: UserWarning: Transparent hugepages are not enabled. TPU runtime startup and shutdown time should be significantly improved on TPU v5e and newer. If not already set, you may need to enable transparent hugepages in your VM image (sudo sh -c \"echo always > /sys/kernel/mm/transparent_hugepage/enabled\")\n",
            "  warnings.warn(\n"
          ]
        },
        {
          "output_type": "stream",
          "name": "stdout",
          "text": [
            "Shape of original target variable (y): (10000,)\n",
            "Shape of encoded target variable (y_encoded): (10000, 5)\n"
          ]
        }
      ]
    },
    {
      "cell_type": "markdown",
      "source": [
        "# **2.1 CNN on Image Data**"
      ],
      "metadata": {
        "id": "hGID_mBPSs1m"
      }
    },
    {
      "cell_type": "markdown",
      "metadata": {
        "id": "ea29d8b6"
      },
      "source": [
        "**Define the cnn model**\n",
        "\n"
      ]
    },
    {
      "cell_type": "code",
      "metadata": {
        "colab": {
          "base_uri": "https://localhost:8080/",
          "height": 568
        },
        "id": "064bfb82",
        "outputId": "5bb2436c-d693-4166-da4e-5d9a0f2ca5dc"
      },
      "source": [
        "# Define the input shape based on the preprocessed image data\n",
        "input_shape = train_jet_images_reshaped.shape[1:]\n",
        "num_classes = y_encoded.shape[1]\n",
        "\n",
        "# Instantiate a Sequential model\n",
        "model = Sequential()\n",
        "\n",
        "# Add Convolutional and Pooling layers\n",
        "model.add(Conv2D(32, (3, 3), activation='relu', padding='same', input_shape=input_shape))\n",
        "model.add(MaxPooling2D((2, 2)))\n",
        "\n",
        "model.add(Conv2D(64, (3, 3), activation='relu', padding='same'))\n",
        "model.add(MaxPooling2D((2, 2)))\n",
        "\n",
        "model.add(Conv2D(128, (3, 3), activation='relu', padding='same'))\n",
        "model.add(MaxPooling2D((2, 2)))\n",
        "\n",
        "# Flatten the output for Dense layers\n",
        "model.add(Flatten())\n",
        "\n",
        "# Add Dense layers\n",
        "model.add(Dense(128, activation='relu'))\n",
        "model.add(Dropout(0.5)) # Add dropout for regularization\n",
        "\n",
        "model.add(Dense(64, activation='relu'))\n",
        "model.add(Dropout(0.5)) # Add dropout for regularization\n",
        "\n",
        "# Output layer\n",
        "model.add(Dense(num_classes, activation='softmax'))\n",
        "\n",
        "# Print the model summary\n",
        "model.summary()"
      ],
      "execution_count": null,
      "outputs": [
        {
          "output_type": "stream",
          "name": "stderr",
          "text": [
            "/usr/local/lib/python3.12/dist-packages/keras/src/layers/convolutional/base_conv.py:113: UserWarning: Do not pass an `input_shape`/`input_dim` argument to a layer. When using Sequential models, prefer using an `Input(shape)` object as the first layer in the model instead.\n",
            "  super().__init__(activity_regularizer=activity_regularizer, **kwargs)\n"
          ]
        },
        {
          "output_type": "display_data",
          "data": {
            "text/plain": [
              "\u001b[1mModel: \"sequential\"\u001b[0m\n"
            ],
            "text/html": [
              "<pre style=\"white-space:pre;overflow-x:auto;line-height:normal;font-family:Menlo,'DejaVu Sans Mono',consolas,'Courier New',monospace\"><span style=\"font-weight: bold\">Model: \"sequential\"</span>\n",
              "</pre>\n"
            ]
          },
          "metadata": {}
        },
        {
          "output_type": "display_data",
          "data": {
            "text/plain": [
              "┏━━━━━━━━━━━━━━━━━━━━━━━━━━━━━━━━━┳━━━━━━━━━━━━━━━━━━━━━━━━┳━━━━━━━━━━━━━━━┓\n",
              "┃\u001b[1m \u001b[0m\u001b[1mLayer (type)                   \u001b[0m\u001b[1m \u001b[0m┃\u001b[1m \u001b[0m\u001b[1mOutput Shape          \u001b[0m\u001b[1m \u001b[0m┃\u001b[1m \u001b[0m\u001b[1m      Param #\u001b[0m\u001b[1m \u001b[0m┃\n",
              "┡━━━━━━━━━━━━━━━━━━━━━━━━━━━━━━━━━╇━━━━━━━━━━━━━━━━━━━━━━━━╇━━━━━━━━━━━━━━━┩\n",
              "│ conv2d (\u001b[38;5;33mConv2D\u001b[0m)                 │ (\u001b[38;5;45mNone\u001b[0m, \u001b[38;5;34m100\u001b[0m, \u001b[38;5;34m100\u001b[0m, \u001b[38;5;34m32\u001b[0m)   │           \u001b[38;5;34m320\u001b[0m │\n",
              "├─────────────────────────────────┼────────────────────────┼───────────────┤\n",
              "│ max_pooling2d (\u001b[38;5;33mMaxPooling2D\u001b[0m)    │ (\u001b[38;5;45mNone\u001b[0m, \u001b[38;5;34m50\u001b[0m, \u001b[38;5;34m50\u001b[0m, \u001b[38;5;34m32\u001b[0m)     │             \u001b[38;5;34m0\u001b[0m │\n",
              "├─────────────────────────────────┼────────────────────────┼───────────────┤\n",
              "│ conv2d_1 (\u001b[38;5;33mConv2D\u001b[0m)               │ (\u001b[38;5;45mNone\u001b[0m, \u001b[38;5;34m50\u001b[0m, \u001b[38;5;34m50\u001b[0m, \u001b[38;5;34m64\u001b[0m)     │        \u001b[38;5;34m18,496\u001b[0m │\n",
              "├─────────────────────────────────┼────────────────────────┼───────────────┤\n",
              "│ max_pooling2d_1 (\u001b[38;5;33mMaxPooling2D\u001b[0m)  │ (\u001b[38;5;45mNone\u001b[0m, \u001b[38;5;34m25\u001b[0m, \u001b[38;5;34m25\u001b[0m, \u001b[38;5;34m64\u001b[0m)     │             \u001b[38;5;34m0\u001b[0m │\n",
              "├─────────────────────────────────┼────────────────────────┼───────────────┤\n",
              "│ conv2d_2 (\u001b[38;5;33mConv2D\u001b[0m)               │ (\u001b[38;5;45mNone\u001b[0m, \u001b[38;5;34m25\u001b[0m, \u001b[38;5;34m25\u001b[0m, \u001b[38;5;34m128\u001b[0m)    │        \u001b[38;5;34m73,856\u001b[0m │\n",
              "├─────────────────────────────────┼────────────────────────┼───────────────┤\n",
              "│ max_pooling2d_2 (\u001b[38;5;33mMaxPooling2D\u001b[0m)  │ (\u001b[38;5;45mNone\u001b[0m, \u001b[38;5;34m12\u001b[0m, \u001b[38;5;34m12\u001b[0m, \u001b[38;5;34m128\u001b[0m)    │             \u001b[38;5;34m0\u001b[0m │\n",
              "├─────────────────────────────────┼────────────────────────┼───────────────┤\n",
              "│ flatten (\u001b[38;5;33mFlatten\u001b[0m)               │ (\u001b[38;5;45mNone\u001b[0m, \u001b[38;5;34m18432\u001b[0m)          │             \u001b[38;5;34m0\u001b[0m │\n",
              "├─────────────────────────────────┼────────────────────────┼───────────────┤\n",
              "│ dense (\u001b[38;5;33mDense\u001b[0m)                   │ (\u001b[38;5;45mNone\u001b[0m, \u001b[38;5;34m128\u001b[0m)            │     \u001b[38;5;34m2,359,424\u001b[0m │\n",
              "├─────────────────────────────────┼────────────────────────┼───────────────┤\n",
              "│ dropout (\u001b[38;5;33mDropout\u001b[0m)               │ (\u001b[38;5;45mNone\u001b[0m, \u001b[38;5;34m128\u001b[0m)            │             \u001b[38;5;34m0\u001b[0m │\n",
              "├─────────────────────────────────┼────────────────────────┼───────────────┤\n",
              "│ dense_1 (\u001b[38;5;33mDense\u001b[0m)                 │ (\u001b[38;5;45mNone\u001b[0m, \u001b[38;5;34m64\u001b[0m)             │         \u001b[38;5;34m8,256\u001b[0m │\n",
              "├─────────────────────────────────┼────────────────────────┼───────────────┤\n",
              "│ dropout_1 (\u001b[38;5;33mDropout\u001b[0m)             │ (\u001b[38;5;45mNone\u001b[0m, \u001b[38;5;34m64\u001b[0m)             │             \u001b[38;5;34m0\u001b[0m │\n",
              "├─────────────────────────────────┼────────────────────────┼───────────────┤\n",
              "│ dense_2 (\u001b[38;5;33mDense\u001b[0m)                 │ (\u001b[38;5;45mNone\u001b[0m, \u001b[38;5;34m5\u001b[0m)              │           \u001b[38;5;34m325\u001b[0m │\n",
              "└─────────────────────────────────┴────────────────────────┴───────────────┘\n"
            ],
            "text/html": [
              "<pre style=\"white-space:pre;overflow-x:auto;line-height:normal;font-family:Menlo,'DejaVu Sans Mono',consolas,'Courier New',monospace\">┏━━━━━━━━━━━━━━━━━━━━━━━━━━━━━━━━━┳━━━━━━━━━━━━━━━━━━━━━━━━┳━━━━━━━━━━━━━━━┓\n",
              "┃<span style=\"font-weight: bold\"> Layer (type)                    </span>┃<span style=\"font-weight: bold\"> Output Shape           </span>┃<span style=\"font-weight: bold\">       Param # </span>┃\n",
              "┡━━━━━━━━━━━━━━━━━━━━━━━━━━━━━━━━━╇━━━━━━━━━━━━━━━━━━━━━━━━╇━━━━━━━━━━━━━━━┩\n",
              "│ conv2d (<span style=\"color: #0087ff; text-decoration-color: #0087ff\">Conv2D</span>)                 │ (<span style=\"color: #00d7ff; text-decoration-color: #00d7ff\">None</span>, <span style=\"color: #00af00; text-decoration-color: #00af00\">100</span>, <span style=\"color: #00af00; text-decoration-color: #00af00\">100</span>, <span style=\"color: #00af00; text-decoration-color: #00af00\">32</span>)   │           <span style=\"color: #00af00; text-decoration-color: #00af00\">320</span> │\n",
              "├─────────────────────────────────┼────────────────────────┼───────────────┤\n",
              "│ max_pooling2d (<span style=\"color: #0087ff; text-decoration-color: #0087ff\">MaxPooling2D</span>)    │ (<span style=\"color: #00d7ff; text-decoration-color: #00d7ff\">None</span>, <span style=\"color: #00af00; text-decoration-color: #00af00\">50</span>, <span style=\"color: #00af00; text-decoration-color: #00af00\">50</span>, <span style=\"color: #00af00; text-decoration-color: #00af00\">32</span>)     │             <span style=\"color: #00af00; text-decoration-color: #00af00\">0</span> │\n",
              "├─────────────────────────────────┼────────────────────────┼───────────────┤\n",
              "│ conv2d_1 (<span style=\"color: #0087ff; text-decoration-color: #0087ff\">Conv2D</span>)               │ (<span style=\"color: #00d7ff; text-decoration-color: #00d7ff\">None</span>, <span style=\"color: #00af00; text-decoration-color: #00af00\">50</span>, <span style=\"color: #00af00; text-decoration-color: #00af00\">50</span>, <span style=\"color: #00af00; text-decoration-color: #00af00\">64</span>)     │        <span style=\"color: #00af00; text-decoration-color: #00af00\">18,496</span> │\n",
              "├─────────────────────────────────┼────────────────────────┼───────────────┤\n",
              "│ max_pooling2d_1 (<span style=\"color: #0087ff; text-decoration-color: #0087ff\">MaxPooling2D</span>)  │ (<span style=\"color: #00d7ff; text-decoration-color: #00d7ff\">None</span>, <span style=\"color: #00af00; text-decoration-color: #00af00\">25</span>, <span style=\"color: #00af00; text-decoration-color: #00af00\">25</span>, <span style=\"color: #00af00; text-decoration-color: #00af00\">64</span>)     │             <span style=\"color: #00af00; text-decoration-color: #00af00\">0</span> │\n",
              "├─────────────────────────────────┼────────────────────────┼───────────────┤\n",
              "│ conv2d_2 (<span style=\"color: #0087ff; text-decoration-color: #0087ff\">Conv2D</span>)               │ (<span style=\"color: #00d7ff; text-decoration-color: #00d7ff\">None</span>, <span style=\"color: #00af00; text-decoration-color: #00af00\">25</span>, <span style=\"color: #00af00; text-decoration-color: #00af00\">25</span>, <span style=\"color: #00af00; text-decoration-color: #00af00\">128</span>)    │        <span style=\"color: #00af00; text-decoration-color: #00af00\">73,856</span> │\n",
              "├─────────────────────────────────┼────────────────────────┼───────────────┤\n",
              "│ max_pooling2d_2 (<span style=\"color: #0087ff; text-decoration-color: #0087ff\">MaxPooling2D</span>)  │ (<span style=\"color: #00d7ff; text-decoration-color: #00d7ff\">None</span>, <span style=\"color: #00af00; text-decoration-color: #00af00\">12</span>, <span style=\"color: #00af00; text-decoration-color: #00af00\">12</span>, <span style=\"color: #00af00; text-decoration-color: #00af00\">128</span>)    │             <span style=\"color: #00af00; text-decoration-color: #00af00\">0</span> │\n",
              "├─────────────────────────────────┼────────────────────────┼───────────────┤\n",
              "│ flatten (<span style=\"color: #0087ff; text-decoration-color: #0087ff\">Flatten</span>)               │ (<span style=\"color: #00d7ff; text-decoration-color: #00d7ff\">None</span>, <span style=\"color: #00af00; text-decoration-color: #00af00\">18432</span>)          │             <span style=\"color: #00af00; text-decoration-color: #00af00\">0</span> │\n",
              "├─────────────────────────────────┼────────────────────────┼───────────────┤\n",
              "│ dense (<span style=\"color: #0087ff; text-decoration-color: #0087ff\">Dense</span>)                   │ (<span style=\"color: #00d7ff; text-decoration-color: #00d7ff\">None</span>, <span style=\"color: #00af00; text-decoration-color: #00af00\">128</span>)            │     <span style=\"color: #00af00; text-decoration-color: #00af00\">2,359,424</span> │\n",
              "├─────────────────────────────────┼────────────────────────┼───────────────┤\n",
              "│ dropout (<span style=\"color: #0087ff; text-decoration-color: #0087ff\">Dropout</span>)               │ (<span style=\"color: #00d7ff; text-decoration-color: #00d7ff\">None</span>, <span style=\"color: #00af00; text-decoration-color: #00af00\">128</span>)            │             <span style=\"color: #00af00; text-decoration-color: #00af00\">0</span> │\n",
              "├─────────────────────────────────┼────────────────────────┼───────────────┤\n",
              "│ dense_1 (<span style=\"color: #0087ff; text-decoration-color: #0087ff\">Dense</span>)                 │ (<span style=\"color: #00d7ff; text-decoration-color: #00d7ff\">None</span>, <span style=\"color: #00af00; text-decoration-color: #00af00\">64</span>)             │         <span style=\"color: #00af00; text-decoration-color: #00af00\">8,256</span> │\n",
              "├─────────────────────────────────┼────────────────────────┼───────────────┤\n",
              "│ dropout_1 (<span style=\"color: #0087ff; text-decoration-color: #0087ff\">Dropout</span>)             │ (<span style=\"color: #00d7ff; text-decoration-color: #00d7ff\">None</span>, <span style=\"color: #00af00; text-decoration-color: #00af00\">64</span>)             │             <span style=\"color: #00af00; text-decoration-color: #00af00\">0</span> │\n",
              "├─────────────────────────────────┼────────────────────────┼───────────────┤\n",
              "│ dense_2 (<span style=\"color: #0087ff; text-decoration-color: #0087ff\">Dense</span>)                 │ (<span style=\"color: #00d7ff; text-decoration-color: #00d7ff\">None</span>, <span style=\"color: #00af00; text-decoration-color: #00af00\">5</span>)              │           <span style=\"color: #00af00; text-decoration-color: #00af00\">325</span> │\n",
              "└─────────────────────────────────┴────────────────────────┴───────────────┘\n",
              "</pre>\n"
            ]
          },
          "metadata": {}
        },
        {
          "output_type": "display_data",
          "data": {
            "text/plain": [
              "\u001b[1m Total params: \u001b[0m\u001b[38;5;34m2,460,677\u001b[0m (9.39 MB)\n"
            ],
            "text/html": [
              "<pre style=\"white-space:pre;overflow-x:auto;line-height:normal;font-family:Menlo,'DejaVu Sans Mono',consolas,'Courier New',monospace\"><span style=\"font-weight: bold\"> Total params: </span><span style=\"color: #00af00; text-decoration-color: #00af00\">2,460,677</span> (9.39 MB)\n",
              "</pre>\n"
            ]
          },
          "metadata": {}
        },
        {
          "output_type": "display_data",
          "data": {
            "text/plain": [
              "\u001b[1m Trainable params: \u001b[0m\u001b[38;5;34m2,460,677\u001b[0m (9.39 MB)\n"
            ],
            "text/html": [
              "<pre style=\"white-space:pre;overflow-x:auto;line-height:normal;font-family:Menlo,'DejaVu Sans Mono',consolas,'Courier New',monospace\"><span style=\"font-weight: bold\"> Trainable params: </span><span style=\"color: #00af00; text-decoration-color: #00af00\">2,460,677</span> (9.39 MB)\n",
              "</pre>\n"
            ]
          },
          "metadata": {}
        },
        {
          "output_type": "display_data",
          "data": {
            "text/plain": [
              "\u001b[1m Non-trainable params: \u001b[0m\u001b[38;5;34m0\u001b[0m (0.00 B)\n"
            ],
            "text/html": [
              "<pre style=\"white-space:pre;overflow-x:auto;line-height:normal;font-family:Menlo,'DejaVu Sans Mono',consolas,'Courier New',monospace\"><span style=\"font-weight: bold\"> Non-trainable params: </span><span style=\"color: #00af00; text-decoration-color: #00af00\">0</span> (0.00 B)\n",
              "</pre>\n"
            ]
          },
          "metadata": {}
        }
      ]
    },
    {
      "cell_type": "markdown",
      "metadata": {
        "id": "0b0bf9a6"
      },
      "source": [
        "**Compile the model**\n",
        "\n"
      ]
    },
    {
      "cell_type": "code",
      "metadata": {
        "colab": {
          "base_uri": "https://localhost:8080/"
        },
        "id": "0068026a",
        "outputId": "a3176341-ca02-4031-c1be-5fe2a6c7f0d5"
      },
      "source": [
        "model.compile(optimizer=Adam(),\n",
        "              loss='categorical_crossentropy',\n",
        "              metrics=['accuracy'])\n",
        "\n",
        "print(\"Model compiled successfully.\")"
      ],
      "execution_count": null,
      "outputs": [
        {
          "output_type": "stream",
          "name": "stdout",
          "text": [
            "Model compiled successfully.\n"
          ]
        }
      ]
    },
    {
      "cell_type": "markdown",
      "metadata": {
        "id": "d47fac02"
      },
      "source": [
        "**Implement model training with checkpoints**"
      ]
    },
    {
      "cell_type": "code",
      "metadata": {
        "colab": {
          "base_uri": "https://localhost:8080/"
        },
        "id": "3b40fef9",
        "outputId": "caf9d2e1-274e-48e5-c4f2-f8b2108547fb"
      },
      "source": [
        "# Define a checkpoint path\n",
        "checkpoint_path = \"best_model_weights.weights.h5\"\n",
        "\n",
        "# Instantiate the ModelCheckpoint callback\n",
        "checkpoint_callback = ModelCheckpoint(\n",
        "    filepath=checkpoint_path,\n",
        "    save_best_only=True,  # Save only the best model\n",
        "    save_weights_only=True, # Save only the weights\n",
        "    monitor='val_accuracy', # Monitor validation accuracy\n",
        "    mode='max', # Save when validation accuracy is maximized\n",
        "    verbose=1 # Log when a new best model is saved\n",
        ")\n",
        "\n",
        "# Train the model\n",
        "epochs = 10\n",
        "batch_size = 32\n",
        "\n",
        "history = model.fit(\n",
        "    train_jet_images_reshaped,\n",
        "    y_encoded,\n",
        "    epochs=epochs,\n",
        "    batch_size=batch_size,\n",
        "    validation_data=(val_jet_images_reshaped, y_encoded), # Assuming y_encoded is also for validation targets\n",
        "    callbacks=[checkpoint_callback]\n",
        ")\n",
        "\n",
        "print(f\"\\nModel trained for {epochs} epochs with batch size {batch_size}.\")\n",
        "print(f\"Best model weights saved to {checkpoint_path}\")"
      ],
      "execution_count": null,
      "outputs": [
        {
          "output_type": "stream",
          "name": "stdout",
          "text": [
            "Epoch 1/10\n",
            "\u001b[1m313/313\u001b[0m \u001b[32m━━━━━━━━━━━━━━━━━━━━\u001b[0m\u001b[37m\u001b[0m \u001b[1m0s\u001b[0m 234ms/step - accuracy: 0.3239 - loss: 1.4954\n",
            "Epoch 1: val_accuracy improved from -inf to 0.22340, saving model to best_model_weights.weights.h5\n",
            "\u001b[1m313/313\u001b[0m \u001b[32m━━━━━━━━━━━━━━━━━━━━\u001b[0m\u001b[37m\u001b[0m \u001b[1m92s\u001b[0m 292ms/step - accuracy: 0.3240 - loss: 1.4952 - val_accuracy: 0.2234 - val_loss: 1.9117\n",
            "Epoch 2/10\n",
            "\u001b[1m313/313\u001b[0m \u001b[32m━━━━━━━━━━━━━━━━━━━━\u001b[0m\u001b[37m\u001b[0m \u001b[1m0s\u001b[0m 230ms/step - accuracy: 0.4538 - loss: 1.2954\n",
            "Epoch 2: val_accuracy did not improve from 0.22340\n",
            "\u001b[1m313/313\u001b[0m \u001b[32m━━━━━━━━━━━━━━━━━━━━\u001b[0m\u001b[37m\u001b[0m \u001b[1m89s\u001b[0m 286ms/step - accuracy: 0.4538 - loss: 1.2953 - val_accuracy: 0.2198 - val_loss: 2.1337\n",
            "Epoch 3/10\n",
            "\u001b[1m313/313\u001b[0m \u001b[32m━━━━━━━━━━━━━━━━━━━━\u001b[0m\u001b[37m\u001b[0m \u001b[1m0s\u001b[0m 229ms/step - accuracy: 0.4848 - loss: 1.2344\n",
            "Epoch 3: val_accuracy did not improve from 0.22340\n",
            "\u001b[1m313/313\u001b[0m \u001b[32m━━━━━━━━━━━━━━━━━━━━\u001b[0m\u001b[37m\u001b[0m \u001b[1m89s\u001b[0m 284ms/step - accuracy: 0.4848 - loss: 1.2343 - val_accuracy: 0.2232 - val_loss: 2.1346\n",
            "Epoch 4/10\n",
            "\u001b[1m313/313\u001b[0m \u001b[32m━━━━━━━━━━━━━━━━━━━━\u001b[0m\u001b[37m\u001b[0m \u001b[1m0s\u001b[0m 229ms/step - accuracy: 0.5013 - loss: 1.1739\n",
            "Epoch 4: val_accuracy did not improve from 0.22340\n",
            "\u001b[1m313/313\u001b[0m \u001b[32m━━━━━━━━━━━━━━━━━━━━\u001b[0m\u001b[37m\u001b[0m \u001b[1m89s\u001b[0m 286ms/step - accuracy: 0.5013 - loss: 1.1739 - val_accuracy: 0.2225 - val_loss: 2.5862\n",
            "Epoch 5/10\n",
            "\u001b[1m313/313\u001b[0m \u001b[32m━━━━━━━━━━━━━━━━━━━━\u001b[0m\u001b[37m\u001b[0m \u001b[1m0s\u001b[0m 229ms/step - accuracy: 0.5267 - loss: 1.1465\n",
            "Epoch 5: val_accuracy improved from 0.22340 to 0.22490, saving model to best_model_weights.weights.h5\n",
            "\u001b[1m313/313\u001b[0m \u001b[32m━━━━━━━━━━━━━━━━━━━━\u001b[0m\u001b[37m\u001b[0m \u001b[1m90s\u001b[0m 287ms/step - accuracy: 0.5266 - loss: 1.1465 - val_accuracy: 0.2249 - val_loss: 2.3309\n",
            "Epoch 6/10\n",
            "\u001b[1m313/313\u001b[0m \u001b[32m━━━━━━━━━━━━━━━━━━━━\u001b[0m\u001b[37m\u001b[0m \u001b[1m0s\u001b[0m 231ms/step - accuracy: 0.5277 - loss: 1.1447\n",
            "Epoch 6: val_accuracy did not improve from 0.22490\n",
            "\u001b[1m313/313\u001b[0m \u001b[32m━━━━━━━━━━━━━━━━━━━━\u001b[0m\u001b[37m\u001b[0m \u001b[1m90s\u001b[0m 288ms/step - accuracy: 0.5278 - loss: 1.1447 - val_accuracy: 0.2187 - val_loss: 2.6221\n",
            "Epoch 7/10\n",
            "\u001b[1m313/313\u001b[0m \u001b[32m━━━━━━━━━━━━━━━━━━━━\u001b[0m\u001b[37m\u001b[0m \u001b[1m0s\u001b[0m 229ms/step - accuracy: 0.5450 - loss: 1.1212\n",
            "Epoch 7: val_accuracy improved from 0.22490 to 0.22850, saving model to best_model_weights.weights.h5\n",
            "\u001b[1m313/313\u001b[0m \u001b[32m━━━━━━━━━━━━━━━━━━━━\u001b[0m\u001b[37m\u001b[0m \u001b[1m89s\u001b[0m 286ms/step - accuracy: 0.5450 - loss: 1.1212 - val_accuracy: 0.2285 - val_loss: 2.7816\n",
            "Epoch 8/10\n",
            "\u001b[1m313/313\u001b[0m \u001b[32m━━━━━━━━━━━━━━━━━━━━\u001b[0m\u001b[37m\u001b[0m \u001b[1m0s\u001b[0m 231ms/step - accuracy: 0.5558 - loss: 1.0817\n",
            "Epoch 8: val_accuracy did not improve from 0.22850\n",
            "\u001b[1m313/313\u001b[0m \u001b[32m━━━━━━━━━━━━━━━━━━━━\u001b[0m\u001b[37m\u001b[0m \u001b[1m89s\u001b[0m 286ms/step - accuracy: 0.5558 - loss: 1.0818 - val_accuracy: 0.2199 - val_loss: 2.4003\n",
            "Epoch 9/10\n",
            "\u001b[1m313/313\u001b[0m \u001b[32m━━━━━━━━━━━━━━━━━━━━\u001b[0m\u001b[37m\u001b[0m \u001b[1m0s\u001b[0m 228ms/step - accuracy: 0.5625 - loss: 1.0937\n",
            "Epoch 9: val_accuracy did not improve from 0.22850\n",
            "\u001b[1m313/313\u001b[0m \u001b[32m━━━━━━━━━━━━━━━━━━━━\u001b[0m\u001b[37m\u001b[0m \u001b[1m89s\u001b[0m 284ms/step - accuracy: 0.5625 - loss: 1.0937 - val_accuracy: 0.2233 - val_loss: 2.6867\n",
            "Epoch 10/10\n",
            "\u001b[1m313/313\u001b[0m \u001b[32m━━━━━━━━━━━━━━━━━━━━\u001b[0m\u001b[37m\u001b[0m \u001b[1m0s\u001b[0m 230ms/step - accuracy: 0.5586 - loss: 1.0915\n",
            "Epoch 10: val_accuracy did not improve from 0.22850\n",
            "\u001b[1m313/313\u001b[0m \u001b[32m━━━━━━━━━━━━━━━━━━━━\u001b[0m\u001b[37m\u001b[0m \u001b[1m90s\u001b[0m 288ms/step - accuracy: 0.5586 - loss: 1.0915 - val_accuracy: 0.2239 - val_loss: 3.1501\n",
            "\n",
            "Model trained for 10 epochs with batch size 32.\n",
            "Best model weights saved to best_model_weights.weights.h5\n"
          ]
        }
      ]
    },
    {
      "cell_type": "markdown",
      "metadata": {
        "id": "55292bc9"
      },
      "source": [
        "**Report and plot training history**\n"
      ]
    },
    {
      "cell_type": "code",
      "metadata": {
        "colab": {
          "base_uri": "https://localhost:8080/",
          "height": 357
        },
        "id": "ad088f38",
        "outputId": "5217a56b-ded6-4baa-bedf-df43673b9655"
      },
      "source": [
        "# Plot accuracy and loss curves\n",
        "plt.figure(figsize=(12, 6))\n",
        "\n",
        "# Plot accuracy\n",
        "plt.subplot(1, 2, 1)\n",
        "plt.plot(history.history['accuracy'], label='Training Accuracy')\n",
        "plt.plot(history.history['val_accuracy'], label='Validation Accuracy')\n",
        "plt.title('Model Accuracy')\n",
        "plt.xlabel('Epoch')\n",
        "plt.ylabel('Accuracy')\n",
        "plt.legend()\n",
        "\n",
        "# Plot loss\n",
        "plt.subplot(1, 2, 2)\n",
        "plt.plot(history.history['loss'], label='Training Loss')\n",
        "plt.plot(history.history['val_loss'], label='Validation Loss')\n",
        "plt.title('Model Loss')\n",
        "plt.xlabel('Epoch')\n",
        "plt.ylabel('Loss')\n",
        "plt.legend()\n",
        "\n",
        "plt.tight_layout()\n",
        "plt.show()"
      ],
      "execution_count": null,
      "outputs": [
        {
          "output_type": "display_data",
          "data": {
            "text/plain": [
              "<Figure size 1200x600 with 2 Axes>"
            ],
            "image/png": "[encoded data removed]"
          },
          "metadata": {}
        }
      ]
    },
    {
      "cell_type": "markdown",
      "metadata": {
        "id": "47483304"
      },
      "source": [
        "**Load the best model weights**\n"
      ]
    },
    {
      "cell_type": "code",
      "metadata": {
        "colab": {
          "base_uri": "https://localhost:8080/"
        },
        "id": "26f3d3f9",
        "outputId": "f916d795-9c6d-4d51-c58a-b671ce86f0e5"
      },
      "source": [
        "model.load_weights(checkpoint_path)\n",
        "print(f\"Model weights loaded successfully from {checkpoint_path}\")"
      ],
      "execution_count": null,
      "outputs": [
        {
          "output_type": "stream",
          "name": "stdout",
          "text": [
            "Model weights loaded successfully from best_model_weights.weights.h5\n"
          ]
        }
      ]
    },
    {
      "cell_type": "markdown",
      "metadata": {
        "id": "da969376"
      },
      "source": [
        "**Make prediction**"
      ]
    },
    {
      "cell_type": "code",
      "metadata": {
        "colab": {
          "base_uri": "https://localhost:8080/"
        },
        "id": "8223ac30",
        "outputId": "3e49e641-16b8-4235-f843-3b6f223390ae"
      },
      "source": [
        "# Predict the class probabilities for the validation set\n",
        "predictions = model.predict(val_jet_images_reshaped)\n",
        "\n",
        "# Convert the predicted probabilities to class labels (indices)\n",
        "predicted_classes_indices = np.argmax(predictions, axis=1)\n",
        "\n",
        "print(\"Prediction on validation data completed.\")\n",
        "print(\"Shape of predicted probabilities:\", predictions.shape)\n",
        "print(\"Shape of predicted class indices:\", predicted_classes_indices.shape)"
      ],
      "execution_count": null,
      "outputs": [
        {
          "output_type": "stream",
          "name": "stdout",
          "text": [
            "\u001b[1m313/313\u001b[0m \u001b[32m━━━━━━━━━━━━━━━━━━━━\u001b[0m\u001b[37m\u001b[0m \u001b[1m18s\u001b[0m 57ms/step\n",
            "Prediction on validation data completed.\n",
            "Shape of predicted probabilities: (10000, 5)\n",
            "Shape of predicted class indices: (10000,)\n"
          ]
        }
      ]
    },
    {
      "cell_type": "markdown",
      "metadata": {
        "id": "5aee4e65"
      },
      "source": [
        "**Identify misclassified jets**"
      ]
    },
    {
      "cell_type": "code",
      "metadata": {
        "colab": {
          "base_uri": "https://localhost:8080/"
        },
        "id": "80150065",
        "outputId": "b94b6a7b-1fbf-4726-97b4-3af8868b88d1"
      },
      "source": [
        "# 1. Convert the true target variable y to numerical class indices.\n",
        "true_classes_indices = y.astype('category').cat.codes\n",
        "\n",
        "# 2. Create a boolean array that is True for misclassified jets and False otherwise.\n",
        "misclassified_mask = (predicted_classes_indices != true_classes_indices)\n",
        "\n",
        "# 3. Use the boolean array to filter the indices of the misclassified jets.\n",
        "misclassified_indices = np.where(misclassified_mask)[0]\n",
        "\n",
        "# 4. Print the total number of misclassified jets found.\n",
        "print(f\"Total number of misclassified jets: {len(misclassified_indices)}\")"
      ],
      "execution_count": null,
      "outputs": [
        {
          "output_type": "stream",
          "name": "stdout",
          "text": [
            "Total number of misclassified jets: 7715\n"
          ]
        }
      ]
    },
    {
      "cell_type": "markdown",
      "metadata": {
        "id": "f8336e04"
      },
      "source": [
        "**Get class labels**"
      ]
    },
    {
      "cell_type": "code",
      "metadata": {
        "colab": {
          "base_uri": "https://localhost:8080/"
        },
        "id": "fb49bc13",
        "outputId": "13434a6d-105d-4039-d402-684d18637748"
      },
      "source": [
        "# Get the categories from the 'target' column and convert to a list of strings\n",
        "class_labels = list(df['target'].astype('category').cat.categories.astype(str))\n",
        "\n",
        "print(\"Actual class labels:\", class_labels)"
      ],
      "execution_count": null,
      "outputs": [
        {
          "output_type": "stream",
          "name": "stdout",
          "text": [
            "Actual class labels: ['j_g', 'j_q', 'j_t', 'j_w', 'j_z']\n"
          ]
        }
      ]
    },
    {
      "cell_type": "markdown",
      "metadata": {
        "id": "c648b980"
      },
      "source": [
        "**Display misclassified jets and analysis**"
      ]
    },
    {
      "cell_type": "code",
      "metadata": {
        "colab": {
          "base_uri": "https://localhost:8080/",
          "height": 321
        },
        "id": "b26f2e10",
        "outputId": "54f13043-2f10-40b8-95cf-5adb4f5fac55"
      },
      "source": [
        "# Check if there are any misclassified jets\n",
        "if len(misclassified_indices) == 0:\n",
        "    print(\"No misclassified jets found.\")\n",
        "else:\n",
        "    # Select up to 10 misclassified indices\n",
        "    num_display = min(10, len(misclassified_indices))\n",
        "    display_indices = misclassified_indices[:num_display]\n",
        "\n",
        "    # Set up the plot\n",
        "    plt.figure(figsize=(20, 10))\n",
        "\n",
        "    # Display the misclassified jets\n",
        "    for i, idx in enumerate(display_indices):\n",
        "        plt.subplot(2, 5, i + 1) # Adjust subplot grid based on num_display\n",
        "        image = val_jet_images_scaled[idx]\n",
        "        true_label = class_labels[true_classes_indices[idx]]\n",
        "        predicted_label = class_labels[predicted_classes_indices[idx]]\n",
        "\n",
        "        plt.imshow(image.squeeze(), cmap='gray') # Use squeeze() to remove the channel dimension for grayscale\n",
        "        plt.title(f\"True: {true_label}, Predicted: {predicted_label}\")\n",
        "        plt.axis('off')\n",
        "\n",
        "    plt.tight_layout()\n",
        "    plt.show()"
      ],
      "execution_count": null,
      "outputs": [
        {
          "output_type": "display_data",
          "data": {
            "text/plain": [
              "<Figure size 2000x1000 with 10 Axes>"
            ],
            "image/png": "[encoded data removed]"
          },
          "metadata": {}
        }
      ]
    },
    {
      "cell_type": "markdown",
      "source": [
        "# **2.2 Models on Tabular Data**"
      ],
      "metadata": {
        "id": "1GVIUr2HUju_"
      }
    },
    {
      "cell_type": "markdown",
      "metadata": {
        "id": "d9f4f2e0"
      },
      "source": [
        "### **Train baseline model on raw data**"
      ]
    },
    {
      "cell_type": "markdown",
      "metadata": {
        "id": "aea1f6bc"
      },
      "source": [
        "**Train model on pca-reduced data**"
      ]
    },
    {
      "cell_type": "code",
      "metadata": {
        "colab": {
          "base_uri": "https://localhost:8080/"
        },
        "id": "717e19a1",
        "outputId": "013e6556-f8b2-42fd-fc5a-024b5ce0ef16"
      },
      "source": [
        "# 1. Split the PCA-transformed data (X_pca) and the string-encoded target variable (y_str) into training and testing sets.\n",
        "X_pca_train, X_pca_test, y_pca_train, y_pca_test = train_test_split(\n",
        "    X_pca, y_str, test_size=0.2, random_state=42\n",
        ")\n",
        "\n",
        "print(\"Shape of PCA-reduced training data:\", X_pca_train.shape)\n",
        "print(\"Shape of PCA-reduced testing data:\", X_pca_test.shape)\n",
        "print(\"Shape of PCA-reduced training labels:\", y_pca_train.shape)\n",
        "print(\"Shape of PCA-reduced testing labels:\", y_pca_test.shape)\n",
        "\n",
        "# 2. Instantiate a new LogisticRegression model with the same parameters as the baseline model.\n",
        "# The baseline model used default parameters, so we'll do the same here.\n",
        "lr_pca = LogisticRegression(max_iter=1000) # Increased max_iter for convergence\n",
        "\n",
        "# 3. Train the Logistic Regression model on the PCA-reduced training data.\n",
        "print(\"\\nTraining Logistic Regression model on PCA-reduced data...\")\n",
        "lr_pca.fit(X_pca_train, y_pca_train)\n",
        "print(\"Model training completed.\")\n",
        "\n",
        "# 4. Make predictions on the PCA-reduced testing data.\n",
        "y_pca_pred = lr_pca.predict(X_pca_test)\n",
        "print(\"\\nPrediction on PCA-reduced testing data completed.\")\n",
        "\n",
        "# 5. Calculate and print the performance metrics.\n",
        "accuracy_pca = accuracy_score(y_pca_test, y_pca_pred)\n",
        "precision_pca = precision_score(y_pca_test, y_pca_pred, average='weighted')\n",
        "recall_pca = recall_score(y_pca_test, y_pca_pred, average='weighted')\n",
        "f1_pca = f1_score(y_pca_test, y_pca_pred, average='weighted')\n",
        "\n",
        "# For ROC AUC with multiclass, we need to binarize the labels\n",
        "lb = LabelBinarizer()\n",
        "y_pca_test_binarized = lb.fit_transform(y_pca_test)\n",
        "y_pca_pred_proba = lr_pca.predict_proba(X_pca_test) # Get probabilities for ROC AUC\n",
        "\n",
        "# Handle the case where there's only one class in y_true or y_pred\n",
        "if y_pca_test_binarized.shape[1] == 1:\n",
        "    # Binary case: ROC AUC for the single class\n",
        "    roc_auc_pca = roc_auc_score(y_pca_test, y_pca_pred_proba[:, 1])\n",
        "else:\n",
        "    # Multiclass case: ROC AUC with 'ovr' strategy\n",
        "    roc_auc_pca = roc_auc_score(y_pca_test_binarized, y_pca_pred_proba, average='weighted', multi_class='ovr')\n",
        "\n",
        "\n",
        "print(\"\\nPerformance Metrics for Logistic Regression on PCA-reduced Data:\")\n",
        "print(f\"Accuracy: {accuracy_pca:.4f}\")\n",
        "print(f\"Precision (weighted): {precision_pca:.4f}\")\n",
        "print(f\"Recall (weighted): {recall_pca:.4f}\")\n",
        "print(f\"F1-score (weighted): {f1_pca:.4f}\")\n",
        "print(f\"ROC AUC (weighted, ovr): {roc_auc_pca:.4f}\")"
      ],
      "execution_count": null,
      "outputs": [
        {
          "output_type": "stream",
          "name": "stdout",
          "text": [
            "Shape of PCA-reduced training data: (8000, 53)\n",
            "Shape of PCA-reduced testing data: (2000, 53)\n",
            "Shape of PCA-reduced training labels: (8000,)\n",
            "Shape of PCA-reduced testing labels: (2000,)\n",
            "\n",
            "Training Logistic Regression model on PCA-reduced data...\n",
            "Model training completed.\n",
            "\n",
            "Prediction on PCA-reduced testing data completed.\n",
            "\n",
            "Performance Metrics for Logistic Regression on PCA-reduced Data:\n",
            "Accuracy: 0.7595\n",
            "Precision (weighted): 0.7588\n",
            "Recall (weighted): 0.7595\n",
            "F1-score (weighted): 0.7584\n",
            "ROC AUC (weighted, ovr): 0.9228\n"
          ]
        }
      ]
    },
    {
      "cell_type": "markdown",
      "metadata": {
        "id": "f014263b"
      },
      "source": [
        "**Compare performance and discuss trade-offs**"
      ]
    },
    {
      "cell_type": "code",
      "metadata": {
        "colab": {
          "base_uri": "https://localhost:8080/"
        },
        "id": "08943887",
        "outputId": "549b48e6-8b5e-4c2f-e2d5-60639b874c1a"
      },
      "source": [
        "print(\"--- Performance Comparison ---\")\n",
        "print(\"Logistic Regression on Raw Data:\")\n",
        "print(f\"Accuracy: {accuracy:.4f}\")\n",
        "print(f\"Precision (weighted): {precision:.4f}\")\n",
        "print(f\"Recall (weighted): {recall:.4f}\")\n",
        "print(f\"F1-score (weighted): {f1:.4f}\")\n",
        "print(f\"ROC AUC (weighted, ovr): {roc_auc:.4f}\")\n",
        "\n",
        "print(\"\\nLogistic Regression on PCA-reduced Data:\")\n",
        "print(f\"Accuracy: {accuracy_pca:.4f}\")\n",
        "print(f\"Precision (weighted): {precision_pca:.4f}\")\n",
        "print(f\"Recall (weighted): {recall_pca:.4f}\")\n",
        "print(f\"F1-score (weighted): {f1_pca:.4f}\")\n",
        "print(f\"ROC AUC (weighted, ovr): {roc_auc_pca:.4f}\")\n",
        "\n",
        "print(\"\\n--- Discussion of Trade-offs ---\")\n",
        "print(\"\\nImpact on Accuracy:\")\n",
        "print(f\"The model trained on PCA-reduced data shows a noticeable increase in accuracy ({accuracy_pca:.4f}) compared to the raw data ({accuracy:.4f}). This suggests that PCA helped in improving the model's ability to correctly classify the jets.\")\n",
        "\n",
        "print(\"\\nImpact on Overfitting:\")\n",
        "print(\"While not explicitly measured by a separate validation set in this direct comparison, PCA can potentially reduce overfitting by removing noise and less important features, leading to a simpler model representation in the reduced dimensionality space. However, without monitoring training and validation performance over epochs, it's hard to definitively conclude on overfitting from these metrics alone.\")\n",
        "\n",
        "print(\"\\nImpact on Training Speed:\")\n",
        "print(\"Training on PCA-reduced data (53 components) is generally faster than training on the raw data (53 features). Although the dimensionality is the same in this specific case after PCA (because we used all components), if we were to select a smaller number of components, the training time would be significantly reduced. The process of performing PCA itself adds an initial computational cost, but for larger datasets or models, the reduced training time can outweigh this.\")\n",
        "\n",
        "print(\"\\nAnalysis of Performance Differences:\")\n",
        "print(\"The improved performance on PCA-reduced data could be attributed to PCA's ability to capture the most important variance in the data while potentially filtering out some noise present in the raw features. By transforming the data into a new subspace defined by the principal components, the model might be learning more robust patterns.\")\n",
        "print(\"However, PCA is a linear transformation and assumes that the principal components capture the most relevant information for the task. It's possible that some non-linear relationships important for classification are lost during the dimensionality reduction, although in this case, it seems the benefits of variance capture and potential noise reduction outweighed any such loss.\")\n",
        "\n",
        "print(\"\\nTrade-offs between Raw and PCA-reduced Data:\")\n",
        "print(\"- **Training Time:** PCA-reduced data generally leads to faster model training, especially if a smaller number of components are selected.\")\n",
        "print(\"- **Model Complexity:** Training on a lower-dimensional PCA space results in a simpler model with fewer parameters, which can help with generalization.\")\n",
        "print(\"- **Interpretability:** The raw features often have direct physical or intuitive meanings. The principal components, being linear combinations of the original features, are less interpretable. Analyzing feature importance or understanding model decisions becomes harder with PCA-reduced data.\")\n",
        "print(\"- **Information Loss:** While PCA aims to retain maximum variance, there is always some information loss when reducing dimensionality. The amount of loss depends on the number of components retained.\")\n",
        "print(\"- **Preprocessing Overhead:** PCA adds an extra step to the preprocessing pipeline, which needs to be applied consistently to both training and new inference data.\")"
      ],
      "execution_count": null,
      "outputs": [
        {
          "output_type": "stream",
          "name": "stdout",
          "text": [
            "--- Performance Comparison ---\n",
            "Logistic Regression on Raw Data:\n",
            "Accuracy: 0.7085\n",
            "Precision (weighted): 0.7099\n",
            "Recall (weighted): 0.7085\n",
            "F1-score (weighted): 0.7080\n",
            "ROC AUC (weighted, ovr): 0.8962\n",
            "\n",
            "Logistic Regression on PCA-reduced Data:\n",
            "Accuracy: 0.7595\n",
            "Precision (weighted): 0.7588\n",
            "Recall (weighted): 0.7595\n",
            "F1-score (weighted): 0.7584\n",
            "ROC AUC (weighted, ovr): 0.9228\n",
            "\n",
            "--- Discussion of Trade-offs ---\n",
            "\n",
            "Impact on Accuracy:\n",
            "The model trained on PCA-reduced data shows a noticeable increase in accuracy (0.7595) compared to the raw data (0.7085). This suggests that PCA helped in improving the model's ability to correctly classify the jets.\n",
            "\n",
            "Impact on Overfitting:\n",
            "While not explicitly measured by a separate validation set in this direct comparison, PCA can potentially reduce overfitting by removing noise and less important features, leading to a simpler model representation in the reduced dimensionality space. However, without monitoring training and validation performance over epochs, it's hard to definitively conclude on overfitting from these metrics alone.\n",
            "\n",
            "Impact on Training Speed:\n",
            "Training on PCA-reduced data (53 components) is generally faster than training on the raw data (53 features). Although the dimensionality is the same in this specific case after PCA (because we used all components), if we were to select a smaller number of components, the training time would be significantly reduced. The process of performing PCA itself adds an initial computational cost, but for larger datasets or models, the reduced training time can outweigh this.\n",
            "\n",
            "Analysis of Performance Differences:\n",
            "The improved performance on PCA-reduced data could be attributed to PCA's ability to capture the most important variance in the data while potentially filtering out some noise present in the raw features. By transforming the data into a new subspace defined by the principal components, the model might be learning more robust patterns.\n",
            "However, PCA is a linear transformation and assumes that the principal components capture the most relevant information for the task. It's possible that some non-linear relationships important for classification are lost during the dimensionality reduction, although in this case, it seems the benefits of variance capture and potential noise reduction outweighed any such loss.\n",
            "\n",
            "Trade-offs between Raw and PCA-reduced Data:\n",
            "- **Training Time:** PCA-reduced data generally leads to faster model training, especially if a smaller number of components are selected.\n",
            "- **Model Complexity:** Training on a lower-dimensional PCA space results in a simpler model with fewer parameters, which can help with generalization.\n",
            "- **Interpretability:** The raw features often have direct physical or intuitive meanings. The principal components, being linear combinations of the original features, are less interpretable. Analyzing feature importance or understanding model decisions becomes harder with PCA-reduced data.\n",
            "- **Information Loss:** While PCA aims to retain maximum variance, there is always some information loss when reducing dimensionality. The amount of loss depends on the number of components retained.\n",
            "- **Preprocessing Overhead:** PCA adds an extra step to the preprocessing pipeline, which needs to be applied consistently to both training and new inference data.\n"
          ]
        }
      ]
    },
    {
      "cell_type": "markdown",
      "metadata": {
        "id": "ff623739"
      },
      "source": [
        "**Provide comparison tables and graphs**"
      ]
    },
    {
      "cell_type": "code",
      "metadata": {
        "colab": {
          "base_uri": "https://localhost:8080/",
          "height": 621
        },
        "id": "de7593a4",
        "outputId": "e184fb40-9cb1-4403-8f1d-f64687838569"
      },
      "source": [
        "# 1. Create a pandas DataFrame to store the performance metrics.\n",
        "comparison_df = pd.DataFrame({\n",
        "    'Metric': ['Accuracy', 'Precision', 'Recall', 'F1-score', 'ROC AUC'],\n",
        "    'Raw Data': [accuracy, precision, recall, f1, roc_auc],\n",
        "    'PCA-reduced Data': [accuracy_pca, precision_pca, recall_pca, f1_pca, roc_auc_pca]\n",
        "})\n",
        "\n",
        "# 2. Populate the DataFrame (already done in step 1).\n",
        "\n",
        "# 3. Print the comparison DataFrame.\n",
        "print(\"Performance Metrics Comparison:\")\n",
        "display(comparison_df)\n",
        "\n",
        "# 4. Create a bar plot to visualize the comparison.\n",
        "fig, ax = plt.subplots(figsize=(12, 7))\n",
        "\n",
        "bar_width = 0.35\n",
        "index = np.arange(len(comparison_df['Metric']))\n",
        "\n",
        "bar1 = ax.bar(index, comparison_df['Raw Data'], bar_width, label='Raw Data', color='skyblue')\n",
        "bar2 = ax.bar(index + bar_width, comparison_df['PCA-reduced Data'], bar_width, label='PCA-reduced Data', color='lightcoral')\n",
        "\n",
        "# 5. Add a title and labels to the bar plot.\n",
        "ax.set_xlabel('Metric')\n",
        "ax.set_ylabel('Score')\n",
        "ax.set_title('Performance Comparison: Raw Data vs. PCA-reduced Data')\n",
        "ax.set_xticks(index + bar_width / 2)\n",
        "ax.set_xticklabels(comparison_df['Metric'])\n",
        "ax.legend()\n",
        "\n",
        "# Add the metric values on top of the bars\n",
        "def add_value_labels(ax, bars):\n",
        "    for bar in bars:\n",
        "        height = bar.get_height()\n",
        "        ax.text(bar.get_x() + bar.get_width()/2., height,\n",
        "                f'{height:.4f}',\n",
        "                ha='center', va='bottom')\n",
        "\n",
        "add_value_labels(ax, bar1)\n",
        "add_value_labels(ax, bar2)\n",
        "\n",
        "# 6. Display the bar plot.\n",
        "plt.tight_layout()\n",
        "plt.show()"
      ],
      "execution_count": null,
      "outputs": [
        {
          "output_type": "stream",
          "name": "stdout",
          "text": [
            "Performance Metrics Comparison:\n"
          ]
        },
        {
          "output_type": "display_data",
          "data": {
            "text/plain": [
              "      Metric  Raw Data  PCA-reduced Data\n",
              "0   Accuracy  0.708500          0.759500\n",
              "1  Precision  0.709901          0.758819\n",
              "2     Recall  0.708500          0.759500\n",
              "3   F1-score  0.707990          0.758430\n",
              "4    ROC AUC  0.896174          0.922773"
            ],
            "text/html": [
              "\n",
              "  <div id=\"df-5edd6fde-8239-420b-9201-efce40feada5\" class=\"colab-df-container\">\n",
              "    <div>\n",
              "<style scoped>\n",
              "    .dataframe tbody tr th:only-of-type {\n",
              "        vertical-align: middle;\n",
              "    }\n",
              "\n",
              "    .dataframe tbody tr th {\n",
              "        vertical-align: top;\n",
              "    }\n",
              "\n",
              "    .dataframe thead th {\n",
              "        text-align: right;\n",
              "    }\n",
              "</style>\n",
              "<table border=\"1\" class=\"dataframe\">\n",
              "  <thead>\n",
              "    <tr style=\"text-align: right;\">\n",
              "      <th></th>\n",
              "      <th>Metric</th>\n",
              "      <th>Raw Data</th>\n",
              "      <th>PCA-reduced Data</th>\n",
              "    </tr>\n",
              "  </thead>\n",
              "  <tbody>\n",
              "    <tr>\n",
              "      <th>0</th>\n",
              "      <td>Accuracy</td>\n",
              "      <td>0.708500</td>\n",
              "      <td>0.759500</td>\n",
              "    </tr>\n",
              "    <tr>\n",
              "      <th>1</th>\n",
              "      <td>Precision</td>\n",
              "      <td>0.709901</td>\n",
              "      <td>0.758819</td>\n",
              "    </tr>\n",
              "    <tr>\n",
              "      <th>2</th>\n",
              "      <td>Recall</td>\n",
              "      <td>0.708500</td>\n",
              "      <td>0.759500</td>\n",
              "    </tr>\n",
              "    <tr>\n",
              "      <th>3</th>\n",
              "      <td>F1-score</td>\n",
              "      <td>0.707990</td>\n",
              "      <td>0.758430</td>\n",
              "    </tr>\n",
              "    <tr>\n",
              "      <th>4</th>\n",
              "      <td>ROC AUC</td>\n",
              "      <td>0.896174</td>\n",
              "      <td>0.922773</td>\n",
              "    </tr>\n",
              "  </tbody>\n",
              "</table>\n",
              "</div>\n",
              "    <div class=\"colab-df-buttons\">\n",
              "\n",
              "  <div class=\"colab-df-container\">\n",
              "    <button class=\"colab-df-convert\" onclick=\"convertToInteractive('df-5edd6fde-8239-420b-9201-efce40feada5')\"\n",
              "            title=\"Convert this dataframe to an interactive table.\"\n",
              "            style=\"display:none;\">\n",
              "\n",
              "  <svg xmlns=\"http://www.w3.org/2000/svg\" height=\"24px\" viewBox=\"0 -960 960 960\">\n",
              "    <path d=\"M120-120v-720h720v720H120Zm60-500h600v-160H180v160Zm220 220h160v-160H400v160Zm0 220h160v-160H400v160ZM180-400h160v-160H180v160Zm440 0h160v-160H620v160ZM180-180h160v-160H180v160Zm440 0h160v-160H620v160Z\"/>\n",
              "  </svg>\n",
              "    </button>\n",
              "\n",
              "  <style>\n",
              "    .colab-df-container {\n",
              "      display:flex;\n",
              "      gap: 12px;\n",
              "    }\n",
              "\n",
              "    .colab-df-convert {\n",
              "      background-color: #E8F0FE;\n",
              "      border: none;\n",
              "      border-radius: 50%;\n",
              "      cursor: pointer;\n",
              "      display: none;\n",
              "      fill: #1967D2;\n",
              "      height: 32px;\n",
              "      padding: 0 0 0 0;\n",
              "      width: 32px;\n",
              "    }\n",
              "\n",
              "    .colab-df-convert:hover {\n",
              "      background-color: #E2EBFA;\n",
              "      box-shadow: 0px 1px 2px rgba(60, 64, 67, 0.3), 0px 1px 3px 1px rgba(60, 64, 67, 0.15);\n",
              "      fill: #174EA6;\n",
              "    }\n",
              "\n",
              "    .colab-df-buttons div {\n",
              "      margin-bottom: 4px;\n",
              "    }\n",
              "\n",
              "    [theme=dark] .colab-df-convert {\n",
              "      background-color: #3B4455;\n",
              "      fill: #D2E3FC;\n",
              "    }\n",
              "\n",
              "    [theme=dark] .colab-df-convert:hover {\n",
              "      background-color: #434B5C;\n",
              "      box-shadow: 0px 1px 3px 1px rgba(0, 0, 0, 0.15);\n",
              "      filter: drop-shadow(0px 1px 2px rgba(0, 0, 0, 0.3));\n",
              "      fill: #FFFFFF;\n",
              "    }\n",
              "  </style>\n",
              "\n",
              "    <script>\n",
              "      const buttonEl =\n",
              "        document.querySelector('#df-5edd6fde-8239-420b-9201-efce40feada5 button.colab-df-convert');\n",
              "      buttonEl.style.display =\n",
              "        google.colab.kernel.accessAllowed ? 'block' : 'none';\n",
              "\n",
              "      async function convertToInteractive(key) {\n",
              "        const element = document.querySelector('#df-5edd6fde-8239-420b-9201-efce40feada5');\n",
              "        const dataTable =\n",
              "          await google.colab.kernel.invokeFunction('convertToInteractive',\n",
              "                                                    [key], {});\n",
              "        if (!dataTable) return;\n",
              "\n",
              "        const docLinkHtml = 'Like what you see? Visit the ' +\n",
              "          '<a target=\"_blank\" href=https://colab.research.google.com/notebooks/data_table.ipynb>data table notebook</a>'\n",
              "          + ' to learn more about interactive tables.';\n",
              "        element.innerHTML = '';\n",
              "        dataTable['output_type'] = 'display_data';\n",
              "        await google.colab.output.renderOutput(dataTable, element);\n",
              "        const docLink = document.createElement('div');\n",
              "        docLink.innerHTML = docLinkHtml;\n",
              "        element.appendChild(docLink);\n",
              "      }\n",
              "    </script>\n",
              "  </div>\n",
              "\n",
              "\n",
              "    <div id=\"df-abcdd43d-96ee-402c-bbf7-9d89559f2480\">\n",
              "      <button class=\"colab-df-quickchart\" onclick=\"quickchart('df-abcdd43d-96ee-402c-bbf7-9d89559f2480')\"\n",
              "                title=\"Suggest charts\"\n",
              "                style=\"display:none;\">\n",
              "\n",
              "<svg xmlns=\"http://www.w3.org/2000/svg\" height=\"24px\"viewBox=\"0 0 24 24\"\n",
              "     width=\"24px\">\n",
              "    <g>\n",
              "        <path d=\"M19 3H5c-1.1 0-2 .9-2 2v14c0 1.1.9 2 2 2h14c1.1 0 2-.9 2-2V5c0-1.1-.9-2-2-2zM9 17H7v-7h2v7zm4 0h-2V7h2v10zm4 0h-2v-4h2v4z\"/>\n",
              "    </g>\n",
              "</svg>\n",
              "      </button>\n",
              "\n",
              "<style>\n",
              "  .colab-df-quickchart {\n",
              "      --bg-color: #E8F0FE;\n",
              "      --fill-color: #1967D2;\n",
              "      --hover-bg-color: #E2EBFA;\n",
              "      --hover-fill-color: #174EA6;\n",
              "      --disabled-fill-color: #AAA;\n",
              "      --disabled-bg-color: #DDD;\n",
              "  }\n",
              "\n",
              "  [theme=dark] .colab-df-quickchart {\n",
              "      --bg-color: #3B4455;\n",
              "      --fill-color: #D2E3FC;\n",
              "      --hover-bg-color: #434B5C;\n",
              "      --hover-fill-color: #FFFFFF;\n",
              "      --disabled-bg-color: #3B4455;\n",
              "      --disabled-fill-color: #666;\n",
              "  }\n",
              "\n",
              "  .colab-df-quickchart {\n",
              "    background-color: var(--bg-color);\n",
              "    border: none;\n",
              "    border-radius: 50%;\n",
              "    cursor: pointer;\n",
              "    display: none;\n",
              "    fill: var(--fill-color);\n",
              "    height: 32px;\n",
              "    padding: 0;\n",
              "    width: 32px;\n",
              "  }\n",
              "\n",
              "  .colab-df-quickchart:hover {\n",
              "    background-color: var(--hover-bg-color);\n",
              "    box-shadow: 0 1px 2px rgba(60, 64, 67, 0.3), 0 1px 3px 1px rgba(60, 64, 67, 0.15);\n",
              "    fill: var(--button-hover-fill-color);\n",
              "  }\n",
              "\n",
              "  .colab-df-quickchart-complete:disabled,\n",
              "  .colab-df-quickchart-complete:disabled:hover {\n",
              "    background-color: var(--disabled-bg-color);\n",
              "    fill: var(--disabled-fill-color);\n",
              "    box-shadow: none;\n",
              "  }\n",
              "\n",
              "  .colab-df-spinner {\n",
              "    border: 2px solid var(--fill-color);\n",
              "    border-color: transparent;\n",
              "    border-bottom-color: var(--fill-color);\n",
              "    animation:\n",
              "      spin 1s steps(1) infinite;\n",
              "  }\n",
              "\n",
              "  @keyframes spin {\n",
              "    0% {\n",
              "      border-color: transparent;\n",
              "      border-bottom-color: var(--fill-color);\n",
              "      border-left-color: var(--fill-color);\n",
              "    }\n",
              "    20% {\n",
              "      border-color: transparent;\n",
              "      border-left-color: var(--fill-color);\n",
              "      border-top-color: var(--fill-color);\n",
              "    }\n",
              "    30% {\n",
              "      border-color: transparent;\n",
              "      border-left-color: var(--fill-color);\n",
              "      border-top-color: var(--fill-color);\n",
              "      border-right-color: var(--fill-color);\n",
              "    }\n",
              "    40% {\n",
              "      border-color: transparent;\n",
              "      border-right-color: var(--fill-color);\n",
              "      border-top-color: var(--fill-color);\n",
              "    }\n",
              "    60% {\n",
              "      border-color: transparent;\n",
              "      border-right-color: var(--fill-color);\n",
              "    }\n",
              "    80% {\n",
              "      border-color: transparent;\n",
              "      border-right-color: var(--fill-color);\n",
              "      border-bottom-color: var(--fill-color);\n",
              "    }\n",
              "    90% {\n",
              "      border-color: transparent;\n",
              "      border-bottom-color: var(--fill-color);\n",
              "    }\n",
              "  }\n",
              "</style>\n",
              "\n",
              "      <script>\n",
              "        async function quickchart(key) {\n",
              "          const quickchartButtonEl =\n",
              "            document.querySelector('#' + key + ' button');\n",
              "          quickchartButtonEl.disabled = true;  // To prevent multiple clicks.\n",
              "          quickchartButtonEl.classList.add('colab-df-spinner');\n",
              "          try {\n",
              "            const charts = await google.colab.kernel.invokeFunction(\n",
              "                'suggestCharts', [key], {});\n",
              "          } catch (error) {\n",
              "            console.error('Error during call to suggestCharts:', error);\n",
              "          }\n",
              "          quickchartButtonEl.classList.remove('colab-df-spinner');\n",
              "          quickchartButtonEl.classList.add('colab-df-quickchart-complete');\n",
              "        }\n",
              "        (() => {\n",
              "          let quickchartButtonEl =\n",
              "            document.querySelector('#df-abcdd43d-96ee-402c-bbf7-9d89559f2480 button');\n",
              "          quickchartButtonEl.style.display =\n",
              "            google.colab.kernel.accessAllowed ? 'block' : 'none';\n",
              "        })();\n",
              "      </script>\n",
              "    </div>\n",
              "\n",
              "  <div id=\"id_c8fb5946-97df-4ba8-beb7-0d79cf2facc2\">\n",
              "    <style>\n",
              "      .colab-df-generate {\n",
              "        background-color: #E8F0FE;\n",
              "        border: none;\n",
              "        border-radius: 50%;\n",
              "        cursor: pointer;\n",
              "        display: none;\n",
              "        fill: #1967D2;\n",
              "        height: 32px;\n",
              "        padding: 0 0 0 0;\n",
              "        width: 32px;\n",
              "      }\n",
              "\n",
              "      .colab-df-generate:hover {\n",
              "        background-color: #E2EBFA;\n",
              "        box-shadow: 0px 1px 2px rgba(60, 64, 67, 0.3), 0px 1px 3px 1px rgba(60, 64, 67, 0.15);\n",
              "        fill: #174EA6;\n",
              "      }\n",
              "\n",
              "      [theme=dark] .colab-df-generate {\n",
              "        background-color: #3B4455;\n",
              "        fill: #D2E3FC;\n",
              "      }\n",
              "\n",
              "      [theme=dark] .colab-df-generate:hover {\n",
              "        background-color: #434B5C;\n",
              "        box-shadow: 0px 1px 3px 1px rgba(0, 0, 0, 0.15);\n",
              "        filter: drop-shadow(0px 1px 2px rgba(0, 0, 0, 0.3));\n",
              "        fill: #FFFFFF;\n",
              "      }\n",
              "    </style>\n",
              "    <button class=\"colab-df-generate\" onclick=\"generateWithVariable('comparison_df')\"\n",
              "            title=\"Generate code using this dataframe.\"\n",
              "            style=\"display:none;\">\n",
              "\n",
              "  <svg xmlns=\"http://www.w3.org/2000/svg\" height=\"24px\"viewBox=\"0 0 24 24\"\n",
              "       width=\"24px\">\n",
              "    <path d=\"M7,19H8.4L18.45,9,17,7.55,7,17.6ZM5,21V16.75L18.45,3.32a2,2,0,0,1,2.83,0l1.4,1.43a1.91,1.91,0,0,1,.58,1.4,1.91,1.91,0,0,1-.58,1.4L9.25,21ZM18.45,9,17,7.55Zm-12,3A5.31,5.31,0,0,0,4.9,8.1,5.31,5.31,0,0,0,1,6.5,5.31,5.31,0,0,0,4.9,4.9,5.31,5.31,0,0,0,6.5,1,5.31,5.31,0,0,0,8.1,4.9,5.31,5.31,0,0,0,12,6.5,5.46,5.46,0,0,0,6.5,12Z\"/>\n",
              "  </svg>\n",
              "    </button>\n",
              "    <script>\n",
              "      (() => {\n",
              "      const buttonEl =\n",
              "        document.querySelector('#id_c8fb5946-97df-4ba8-beb7-0d79cf2facc2 button.colab-df-generate');\n",
              "      buttonEl.style.display =\n",
              "        google.colab.kernel.accessAllowed ? 'block' : 'none';\n",
              "\n",
              "      buttonEl.onclick = () => {\n",
              "        google.colab.notebook.generateWithVariable('comparison_df');\n",
              "      }\n",
              "      })();\n",
              "    </script>\n",
              "  </div>\n",
              "\n",
              "    </div>\n",
              "  </div>\n"
            ],
            "application/vnd.google.colaboratory.intrinsic+json": {
              "type": "dataframe",
              "variable_name": "comparison_df",
              "summary": "{\n  \"name\": \"comparison_df\",\n  \"rows\": 5,\n  \"fields\": [\n    {\n      \"column\": \"Metric\",\n      \"properties\": {\n        \"dtype\": \"string\",\n        \"num_unique_values\": 5,\n        \"samples\": [\n          \"Precision\",\n          \"ROC AUC\",\n          \"Recall\"\n        ],\n        \"semantic_type\": \"\",\n        \"description\": \"\"\n      }\n    },\n    {\n      \"column\": \"Raw Data\",\n      \"properties\": {\n        \"dtype\": \"number\",\n        \"std\": 0.0838336810244049,\n        \"min\": 0.7079903418512535,\n        \"max\": 0.8961739148912459,\n        \"num_unique_values\": 4,\n        \"samples\": [\n          0.7099010740327213,\n          0.8961739148912459,\n          0.7085\n        ],\n        \"semantic_type\": \"\",\n        \"description\": \"\"\n      }\n    },\n    {\n      \"column\": \"PCA-reduced Data\",\n      \"properties\": {\n        \"dtype\": \"number\",\n        \"std\": 0.07321501046705722,\n        \"min\": 0.7584300148346258,\n        \"max\": 0.9227727400630195,\n        \"num_unique_values\": 4,\n        \"samples\": [\n          0.7588188451608325,\n          0.9227727400630195,\n          0.7595\n        ],\n        \"semantic_type\": \"\",\n        \"description\": \"\"\n      }\n    }\n  ]\n}"
            }
          },
          "metadata": {}
        },
        {
          "output_type": "display_data",
          "data": {
            "text/plain": [
              "<Figure size 1200x700 with 1 Axes>"
            ],
            "image/png": "[encoded data removed]"
          },
          "metadata": {}
        }
      ]
    },
    {
      "cell_type": "markdown",
      "source": [
        "## **3. Model Comparison**"
      ],
      "metadata": {
        "id": "LBvJTdpuVqUo"
      }
    },
    {
      "cell_type": "markdown",
      "metadata": {
        "id": "7efdd066"
      },
      "source": [
        "**Gather performance metrics**"
      ]
    },
    {
      "cell_type": "code",
      "metadata": {
        "colab": {
          "base_uri": "https://localhost:8080/"
        },
        "id": "OG-_7KiSFMmS",
        "outputId": "7d5a058b-38cb-4303-e17b-ea0d2e5a8dcd"
      },
      "source": [
        "# Recompile the model after loading weights\n",
        "model.compile(optimizer=Adam(),\n",
        "              loss='categorical_crossentropy',\n",
        "              metrics=['accuracy'])\n",
        "\n",
        "print(\"Model recompiled successfully.\")\n",
        "\n",
        "# 1. Evaluate the trained CNN model on the validation dataset\n",
        "cnn_loss, cnn_accuracy = model.evaluate(val_jet_images_reshaped, y_encoded, verbose=0)\n",
        "print(f\"\\nCNN Model Evaluation on Validation Data:\")\n",
        "print(f\"  Loss: {cnn_loss:.4f}\")\n",
        "print(f\"  Accuracy: {cnn_accuracy:.4f}\")\n",
        "\n",
        "# 2. Calculate precision, recall, and F1-score for the CNN model\n",
        "# Convert one-hot encoded true labels back to class indices\n",
        "y_true_indices = np.argmax(y_encoded, axis=1)\n",
        "\n",
        "# Convert predicted probabilities to class indices\n",
        "y_pred_indices = np.argmax(predictions, axis=1)\n",
        "\n",
        "# Get classification report for precision, recall, and F1-score\n",
        "# Use target_names for clarity if needed, assuming class_labels are available\n",
        "cnn_classification_report = classification_report(y_true_indices, y_pred_indices, target_names=class_labels, output_dict=True)\n",
        "\n",
        "cnn_precision = cnn_classification_report['weighted avg']['precision']\n",
        "cnn_recall = cnn_classification_report['weighted avg']['recall']\n",
        "cnn_f1 = cnn_classification_report['weighted avg']['f1-score']\n",
        "\n",
        "print(f\"\\nCNN Model Classification Report (weighted averages):\")\n",
        "print(f\"  Precision: {cnn_precision:.4f}\")\n",
        "print(f\"  Recall: {cnn_recall:.4f}\")\n",
        "print(f\"  F1-score: {cnn_f1:.4f}\")\n",
        "\n",
        "# 3. Calculate the ROC AUC for the CNN model\n",
        "# Need to use LabelBinarizer for multiclass ROC AUC\n",
        "lb_cnn = LabelBinarizer()\n",
        "\n",
        "# Use the sorted unique true class indices to fit LabelBinarizer\n",
        "lb_cnn.fit(np.unique(y_true_indices))\n",
        "y_true_binarized = lb_cnn.transform(y_true_indices)\n",
        "\n",
        "# roc_auc_score expects probabilities, which we have in 'predictions'\n",
        "# Handle the case where there's only one class in y_true\n",
        "if y_true_binarized.shape[1] == 1:\n",
        "    # Binary case: ROC AUC for the single class\n",
        "    cnn_roc_auc = roc_auc_score(y_true_indices, predictions[:, 1])\n",
        "else:\n",
        "    # Multiclass case: ROC AUC with 'ovr' strategy\n",
        "    cnn_roc_auc = roc_auc_score(y_true_binarized, predictions, average='weighted', multi_class='ovr')\n",
        "\n",
        "\n",
        "print(f\"  ROC AUC (weighted, ovr): {cnn_roc_auc:.4f}\")\n",
        "\n",
        "\n",
        "# 4. Store CNN performance metrics\n",
        "cnn_metrics = {\n",
        "    'Accuracy': cnn_accuracy,\n",
        "    'Precision': cnn_precision,\n",
        "    'Recall': cnn_recall,\n",
        "    'F1-score': cnn_f1,\n",
        "    'ROC AUC': cnn_roc_auc\n",
        "}\n",
        "print(\"\\nCNN Metrics stored.\")\n",
        "\n",
        "\n",
        "# 5. The PCA Logistic Regression metrics are already available:\n",
        "# accuracy_pca, precision_pca, recall_pca, f1_pca, roc_auc_pca\n",
        "print(\"\\nPCA Logistic Regression metrics are accessible.\")\n",
        "\n",
        "# 6. Store PCA Logistic Regression performance metrics\n",
        "pca_lr_metrics = {\n",
        "    'Accuracy': accuracy_pca,\n",
        "    'Precision': precision_pca,\n",
        "    'Recall': recall_pca,\n",
        "    'F1-score': f1_pca,\n",
        "    'ROC AUC': roc_auc_pca\n",
        "}\n",
        "print(\"PCA Logistic Regression Metrics stored.\")"
      ],
      "execution_count": null,
      "outputs": [
        {
          "output_type": "stream",
          "name": "stdout",
          "text": [
            "Model recompiled successfully.\n",
            "\n",
            "CNN Model Evaluation on Validation Data:\n",
            "  Loss: 2.7816\n",
            "  Accuracy: 0.2285\n",
            "\n",
            "CNN Model Classification Report (weighted averages):\n",
            "  Precision: 0.2317\n",
            "  Recall: 0.2285\n",
            "  F1-score: 0.2257\n",
            "  ROC AUC (weighted, ovr): 0.5380\n",
            "\n",
            "CNN Metrics stored.\n",
            "\n",
            "PCA Logistic Regression metrics are accessible.\n",
            "PCA Logistic Regression Metrics stored.\n"
          ]
        }
      ]
    },
    {
      "cell_type": "markdown",
      "metadata": {
        "id": "fe066ca6"
      },
      "source": [
        "**Confusion matrices**"
      ]
    },
    {
      "cell_type": "code",
      "metadata": {
        "colab": {
          "base_uri": "https://localhost:8080/",
          "height": 1000
        },
        "id": "38c7cfcd",
        "outputId": "068ebe27-722b-48af-e564-51a14a559e07"
      },
      "source": [
        "# 1. Calculate the confusion matrix for the CNN model\n",
        "# y_true_indices and predicted_classes_indices are already available from previous steps\n",
        "cnn_conf_matrix = confusion_matrix(y_true_indices, predicted_classes_indices)\n",
        "\n",
        "# 2. Display the CNN confusion matrix\n",
        "plt.figure(figsize=(8, 6))\n",
        "sns.heatmap(cnn_conf_matrix, annot=True, fmt='d', cmap='Blues',\n",
        "            xticklabels=class_labels, yticklabels=class_labels)\n",
        "plt.xlabel('Predicted Class')\n",
        "plt.ylabel('True Class')\n",
        "plt.title('CNN Model Confusion Matrix')\n",
        "plt.show()\n",
        "\n",
        "# 3. Calculate the confusion matrix for the Logistic Regression model on PCA-reduced data\n",
        "# y_pca_test and y_pca_pred are already available and are string labels\n",
        "# Convert string labels to numerical indices for confusion_matrix\n",
        "# Ensure the mapping is consistent with the class_labels order\n",
        "label_to_index = {label: i for i, label in enumerate(class_labels)}\n",
        "y_pca_test_indices = [label_to_index[label] for label in y_pca_test]\n",
        "y_pca_pred_indices = [label_to_index[label] for label in y_pca_pred]\n",
        "\n",
        "\n",
        "pca_lr_conf_matrix = confusion_matrix(y_pca_test_indices, y_pca_pred_indices)\n",
        "\n",
        "# 4. Display the Logistic Regression confusion matrix\n",
        "plt.figure(figsize=(8, 6))\n",
        "sns.heatmap(pca_lr_conf_matrix, annot=True, fmt='d', cmap='Blues',\n",
        "            xticklabels=class_labels, yticklabels=class_labels)\n",
        "plt.xlabel('Predicted Class')\n",
        "plt.ylabel('True Class')\n",
        "plt.title('Logistic Regression (PCA) Confusion Matrix')\n",
        "plt.show()"
      ],
      "execution_count": null,
      "outputs": [
        {
          "output_type": "display_data",
          "data": {
            "text/plain": [
              "<Figure size 800x600 with 2 Axes>"
            ],
            "image/png": "[encoded data removed]"
          },
          "metadata": {}
        },
        {
          "output_type": "display_data",
          "data": {
            "text/plain": [
              "<Figure size 800x600 with 2 Axes>"
            ],
            "image/png": "[encoded data removed]"
          },
          "metadata": {}
        }
      ]
    },
    {
      "cell_type": "markdown",
      "metadata": {
        "id": "cd8d6af4"
      },
      "source": [
        "**Plot ROC curves**"
      ]
    },
    {
      "cell_type": "code",
      "metadata": {
        "colab": {
          "base_uri": "https://localhost:8080/",
          "height": 711
        },
        "id": "d5a47a16",
        "outputId": "b771983d-f16b-41de-a5eb-3cd35537b1ac"
      },
      "source": [
        "# Set up a single figure for the plot\n",
        "plt.figure(figsize=(10, 8))\n",
        "\n",
        "# For the CNN model: Calculate and plot the ROC curve and AUC score\n",
        "# RocCurveDisplay.from_predictions handles the plotting\n",
        "# Need to use the binarized true labels and the predicted probabilities\n",
        "display_cnn = RocCurveDisplay.from_predictions(\n",
        "    y_true_binarized.ravel(),\n",
        "    predictions.ravel(),\n",
        "    name=f'CNN (AUC = {cnn_roc_auc:.2f})',\n",
        "    ax=plt.gca() # Use the current axes\n",
        ")\n",
        "\n",
        "\n",
        "# For the Logistic Regression (PCA) model: Calculate and plot the ROC curve and AUC score\n",
        "# Need to use the binarized true labels (consistent with the CNN plot) and the predicted probabilities\n",
        "# We can reuse the lb_cnn LabelBinarizer as it's fitted on the same class labels\n",
        "y_pca_test_binarized = lb_cnn.transform(y_pca_test_indices)\n",
        "\n",
        "\n",
        "display_pca_lr = RocCurveDisplay.from_predictions(\n",
        "    y_pca_test_binarized.ravel(),\n",
        "    y_pca_pred_proba.ravel(),\n",
        "    name=f'Logistic Regression (PCA) (AUC = {roc_auc_pca:.2f})',\n",
        "    ax=plt.gca() # Use the current axes\n",
        ")\n",
        "\n",
        "\n",
        "# Add a title to the plot\n",
        "plt.title('ROC Curves Comparison')\n",
        "\n",
        "# Add a legend to the plot\n",
        "plt.legend(loc='lower right')\n",
        "\n",
        "# Add a diagonal line representing a random classifier (AUC = 0.5)\n",
        "plt.plot([0, 1], [0, 1], 'k--', label='Random Classifier (AUC = 0.5)')\n",
        "\n",
        "# Ensure the plot axes are correctly labeled\n",
        "plt.xlabel('False Positive Rate')\n",
        "plt.ylabel('True Positive Rate')\n",
        "\n",
        "# Display the plot\n",
        "plt.grid(True)\n",
        "plt.show()"
      ],
      "execution_count": null,
      "outputs": [
        {
          "output_type": "display_data",
          "data": {
            "text/plain": [
              "<Figure size 1000x800 with 1 Axes>"
            ],
            "image/png": "[encoded data removed]"
          },
          "metadata": {}
        }
      ]
    },
    {
      "cell_type": "markdown",
      "metadata": {
        "id": "bf402d32"
      },
      "source": [
        "**Performance Metrics Comparison Table**"
      ]
    },
    {
      "cell_type": "code",
      "metadata": {
        "colab": {
          "base_uri": "https://localhost:8080/",
          "height": 223
        },
        "id": "08a2be6b",
        "outputId": "35c94e71-dddb-42c0-cb28-5257ae30b8a8"
      },
      "source": [
        "# 1. Create a pandas DataFrame to store the performance metrics.\n",
        "comparison_metrics_df = pd.DataFrame({\n",
        "    'Metric': ['Accuracy', 'Precision', 'Recall', 'F1-score', 'ROC AUC'],\n",
        "    'CNN Model': [cnn_metrics['Accuracy'], cnn_metrics['Precision'], cnn_metrics['Recall'], cnn_metrics['F1-score'], cnn_metrics['ROC AUC']],\n",
        "    'Logistic Regression (PCA)': [pca_lr_metrics['Accuracy'], pca_lr_metrics['Precision'], pca_lr_metrics['Recall'], pca_lr_metrics['F1-score'], pca_lr_metrics['ROC AUC']]\n",
        "})\n",
        "\n",
        "# 2. Populate the DataFrame (done in step 1).\n",
        "\n",
        "# 3. Print the resulting DataFrame to display the side-by-side comparison of the metrics.\n",
        "print(\"Performance Metrics Comparison Table:\")\n",
        "display(comparison_metrics_df)"
      ],
      "execution_count": null,
      "outputs": [
        {
          "output_type": "stream",
          "name": "stdout",
          "text": [
            "Performance Metrics Comparison Table:\n"
          ]
        },
        {
          "output_type": "display_data",
          "data": {
            "text/plain": [
              "      Metric  CNN Model  Logistic Regression (PCA)\n",
              "0   Accuracy   0.228500                   0.759500\n",
              "1  Precision   0.231664                   0.758819\n",
              "2     Recall   0.228500                   0.759500\n",
              "3   F1-score   0.225746                   0.758430\n",
              "4    ROC AUC   0.538033                   0.922773"
            ],
            "text/html": [
              "\n",
              "  <div id=\"df-a8d1f2d9-ace4-4e6d-ab09-efdd5a0f48c0\" class=\"colab-df-container\">\n",
              "    <div>\n",
              "<style scoped>\n",
              "    .dataframe tbody tr th:only-of-type {\n",
              "        vertical-align: middle;\n",
              "    }\n",
              "\n",
              "    .dataframe tbody tr th {\n",
              "        vertical-align: top;\n",
              "    }\n",
              "\n",
              "    .dataframe thead th {\n",
              "        text-align: right;\n",
              "    }\n",
              "</style>\n",
              "<table border=\"1\" class=\"dataframe\">\n",
              "  <thead>\n",
              "    <tr style=\"text-align: right;\">\n",
              "      <th></th>\n",
              "      <th>Metric</th>\n",
              "      <th>CNN Model</th>\n",
              "      <th>Logistic Regression (PCA)</th>\n",
              "    </tr>\n",
              "  </thead>\n",
              "  <tbody>\n",
              "    <tr>\n",
              "      <th>0</th>\n",
              "      <td>Accuracy</td>\n",
              "      <td>0.228500</td>\n",
              "      <td>0.759500</td>\n",
              "    </tr>\n",
              "    <tr>\n",
              "      <th>1</th>\n",
              "      <td>Precision</td>\n",
              "      <td>0.231664</td>\n",
              "      <td>0.758819</td>\n",
              "    </tr>\n",
              "    <tr>\n",
              "      <th>2</th>\n",
              "      <td>Recall</td>\n",
              "      <td>0.228500</td>\n",
              "      <td>0.759500</td>\n",
              "    </tr>\n",
              "    <tr>\n",
              "      <th>3</th>\n",
              "      <td>F1-score</td>\n",
              "      <td>0.225746</td>\n",
              "      <td>0.758430</td>\n",
              "    </tr>\n",
              "    <tr>\n",
              "      <th>4</th>\n",
              "      <td>ROC AUC</td>\n",
              "      <td>0.538033</td>\n",
              "      <td>0.922773</td>\n",
              "    </tr>\n",
              "  </tbody>\n",
              "</table>\n",
              "</div>\n",
              "    <div class=\"colab-df-buttons\">\n",
              "\n",
              "  <div class=\"colab-df-container\">\n",
              "    <button class=\"colab-df-convert\" onclick=\"convertToInteractive('df-a8d1f2d9-ace4-4e6d-ab09-efdd5a0f48c0')\"\n",
              "            title=\"Convert this dataframe to an interactive table.\"\n",
              "            style=\"display:none;\">\n",
              "\n",
              "  <svg xmlns=\"http://www.w3.org/2000/svg\" height=\"24px\" viewBox=\"0 -960 960 960\">\n",
              "    <path d=\"M120-120v-720h720v720H120Zm60-500h600v-160H180v160Zm220 220h160v-160H400v160Zm0 220h160v-160H400v160ZM180-400h160v-160H180v160Zm440 0h160v-160H620v160ZM180-180h160v-160H180v160Zm440 0h160v-160H620v160Z\"/>\n",
              "  </svg>\n",
              "    </button>\n",
              "\n",
              "  <style>\n",
              "    .colab-df-container {\n",
              "      display:flex;\n",
              "      gap: 12px;\n",
              "    }\n",
              "\n",
              "    .colab-df-convert {\n",
              "      background-color: #E8F0FE;\n",
              "      border: none;\n",
              "      border-radius: 50%;\n",
              "      cursor: pointer;\n",
              "      display: none;\n",
              "      fill: #1967D2;\n",
              "      height: 32px;\n",
              "      padding: 0 0 0 0;\n",
              "      width: 32px;\n",
              "    }\n",
              "\n",
              "    .colab-df-convert:hover {\n",
              "      background-color: #E2EBFA;\n",
              "      box-shadow: 0px 1px 2px rgba(60, 64, 67, 0.3), 0px 1px 3px 1px rgba(60, 64, 67, 0.15);\n",
              "      fill: #174EA6;\n",
              "    }\n",
              "\n",
              "    .colab-df-buttons div {\n",
              "      margin-bottom: 4px;\n",
              "    }\n",
              "\n",
              "    [theme=dark] .colab-df-convert {\n",
              "      background-color: #3B4455;\n",
              "      fill: #D2E3FC;\n",
              "    }\n",
              "\n",
              "    [theme=dark] .colab-df-convert:hover {\n",
              "      background-color: #434B5C;\n",
              "      box-shadow: 0px 1px 3px 1px rgba(0, 0, 0, 0.15);\n",
              "      filter: drop-shadow(0px 1px 2px rgba(0, 0, 0, 0.3));\n",
              "      fill: #FFFFFF;\n",
              "    }\n",
              "  </style>\n",
              "\n",
              "    <script>\n",
              "      const buttonEl =\n",
              "        document.querySelector('#df-a8d1f2d9-ace4-4e6d-ab09-efdd5a0f48c0 button.colab-df-convert');\n",
              "      buttonEl.style.display =\n",
              "        google.colab.kernel.accessAllowed ? 'block' : 'none';\n",
              "\n",
              "      async function convertToInteractive(key) {\n",
              "        const element = document.querySelector('#df-a8d1f2d9-ace4-4e6d-ab09-efdd5a0f48c0');\n",
              "        const dataTable =\n",
              "          await google.colab.kernel.invokeFunction('convertToInteractive',\n",
              "                                                    [key], {});\n",
              "        if (!dataTable) return;\n",
              "\n",
              "        const docLinkHtml = 'Like what you see? Visit the ' +\n",
              "          '<a target=\"_blank\" href=https://colab.research.google.com/notebooks/data_table.ipynb>data table notebook</a>'\n",
              "          + ' to learn more about interactive tables.';\n",
              "        element.innerHTML = '';\n",
              "        dataTable['output_type'] = 'display_data';\n",
              "        await google.colab.output.renderOutput(dataTable, element);\n",
              "        const docLink = document.createElement('div');\n",
              "        docLink.innerHTML = docLinkHtml;\n",
              "        element.appendChild(docLink);\n",
              "      }\n",
              "    </script>\n",
              "  </div>\n",
              "\n",
              "\n",
              "    <div id=\"df-edec4852-d656-443b-95b3-c004a0f9f44b\">\n",
              "      <button class=\"colab-df-quickchart\" onclick=\"quickchart('df-edec4852-d656-443b-95b3-c004a0f9f44b')\"\n",
              "                title=\"Suggest charts\"\n",
              "                style=\"display:none;\">\n",
              "\n",
              "<svg xmlns=\"http://www.w3.org/2000/svg\" height=\"24px\"viewBox=\"0 0 24 24\"\n",
              "     width=\"24px\">\n",
              "    <g>\n",
              "        <path d=\"M19 3H5c-1.1 0-2 .9-2 2v14c0 1.1.9 2 2 2h14c1.1 0 2-.9 2-2V5c0-1.1-.9-2-2-2zM9 17H7v-7h2v7zm4 0h-2V7h2v10zm4 0h-2v-4h2v4z\"/>\n",
              "    </g>\n",
              "</svg>\n",
              "      </button>\n",
              "\n",
              "<style>\n",
              "  .colab-df-quickchart {\n",
              "      --bg-color: #E8F0FE;\n",
              "      --fill-color: #1967D2;\n",
              "      --hover-bg-color: #E2EBFA;\n",
              "      --hover-fill-color: #174EA6;\n",
              "      --disabled-fill-color: #AAA;\n",
              "      --disabled-bg-color: #DDD;\n",
              "  }\n",
              "\n",
              "  [theme=dark] .colab-df-quickchart {\n",
              "      --bg-color: #3B4455;\n",
              "      --fill-color: #D2E3FC;\n",
              "      --hover-bg-color: #434B5C;\n",
              "      --hover-fill-color: #FFFFFF;\n",
              "      --disabled-bg-color: #3B4455;\n",
              "      --disabled-fill-color: #666;\n",
              "  }\n",
              "\n",
              "  .colab-df-quickchart {\n",
              "    background-color: var(--bg-color);\n",
              "    border: none;\n",
              "    border-radius: 50%;\n",
              "    cursor: pointer;\n",
              "    display: none;\n",
              "    fill: var(--fill-color);\n",
              "    height: 32px;\n",
              "    padding: 0;\n",
              "    width: 32px;\n",
              "  }\n",
              "\n",
              "  .colab-df-quickchart:hover {\n",
              "    background-color: var(--hover-bg-color);\n",
              "    box-shadow: 0 1px 2px rgba(60, 64, 67, 0.3), 0 1px 3px 1px rgba(60, 64, 67, 0.15);\n",
              "    fill: var(--button-hover-fill-color);\n",
              "  }\n",
              "\n",
              "  .colab-df-quickchart-complete:disabled,\n",
              "  .colab-df-quickchart-complete:disabled:hover {\n",
              "    background-color: var(--disabled-bg-color);\n",
              "    fill: var(--disabled-fill-color);\n",
              "    box-shadow: none;\n",
              "  }\n",
              "\n",
              "  .colab-df-spinner {\n",
              "    border: 2px solid var(--fill-color);\n",
              "    border-color: transparent;\n",
              "    border-bottom-color: var(--fill-color);\n",
              "    animation:\n",
              "      spin 1s steps(1) infinite;\n",
              "  }\n",
              "\n",
              "  @keyframes spin {\n",
              "    0% {\n",
              "      border-color: transparent;\n",
              "      border-bottom-color: var(--fill-color);\n",
              "      border-left-color: var(--fill-color);\n",
              "    }\n",
              "    20% {\n",
              "      border-color: transparent;\n",
              "      border-left-color: var(--fill-color);\n",
              "      border-top-color: var(--fill-color);\n",
              "    }\n",
              "    30% {\n",
              "      border-color: transparent;\n",
              "      border-left-color: var(--fill-color);\n",
              "      border-top-color: var(--fill-color);\n",
              "      border-right-color: var(--fill-color);\n",
              "    }\n",
              "    40% {\n",
              "      border-color: transparent;\n",
              "      border-right-color: var(--fill-color);\n",
              "      border-top-color: var(--fill-color);\n",
              "    }\n",
              "    60% {\n",
              "      border-color: transparent;\n",
              "      border-right-color: var(--fill-color);\n",
              "    }\n",
              "    80% {\n",
              "      border-color: transparent;\n",
              "      border-right-color: var(--fill-color);\n",
              "      border-bottom-color: var(--fill-color);\n",
              "    }\n",
              "    90% {\n",
              "      border-color: transparent;\n",
              "      border-bottom-color: var(--fill-color);\n",
              "    }\n",
              "  }\n",
              "</style>\n",
              "\n",
              "      <script>\n",
              "        async function quickchart(key) {\n",
              "          const quickchartButtonEl =\n",
              "            document.querySelector('#' + key + ' button');\n",
              "          quickchartButtonEl.disabled = true;  // To prevent multiple clicks.\n",
              "          quickchartButtonEl.classList.add('colab-df-spinner');\n",
              "          try {\n",
              "            const charts = await google.colab.kernel.invokeFunction(\n",
              "                'suggestCharts', [key], {});\n",
              "          } catch (error) {\n",
              "            console.error('Error during call to suggestCharts:', error);\n",
              "          }\n",
              "          quickchartButtonEl.classList.remove('colab-df-spinner');\n",
              "          quickchartButtonEl.classList.add('colab-df-quickchart-complete');\n",
              "        }\n",
              "        (() => {\n",
              "          let quickchartButtonEl =\n",
              "            document.querySelector('#df-edec4852-d656-443b-95b3-c004a0f9f44b button');\n",
              "          quickchartButtonEl.style.display =\n",
              "            google.colab.kernel.accessAllowed ? 'block' : 'none';\n",
              "        })();\n",
              "      </script>\n",
              "    </div>\n",
              "\n",
              "  <div id=\"id_b905a382-a1c3-412b-9125-52516df59724\">\n",
              "    <style>\n",
              "      .colab-df-generate {\n",
              "        background-color: #E8F0FE;\n",
              "        border: none;\n",
              "        border-radius: 50%;\n",
              "        cursor: pointer;\n",
              "        display: none;\n",
              "        fill: #1967D2;\n",
              "        height: 32px;\n",
              "        padding: 0 0 0 0;\n",
              "        width: 32px;\n",
              "      }\n",
              "\n",
              "      .colab-df-generate:hover {\n",
              "        background-color: #E2EBFA;\n",
              "        box-shadow: 0px 1px 2px rgba(60, 64, 67, 0.3), 0px 1px 3px 1px rgba(60, 64, 67, 0.15);\n",
              "        fill: #174EA6;\n",
              "      }\n",
              "\n",
              "      [theme=dark] .colab-df-generate {\n",
              "        background-color: #3B4455;\n",
              "        fill: #D2E3FC;\n",
              "      }\n",
              "\n",
              "      [theme=dark] .colab-df-generate:hover {\n",
              "        background-color: #434B5C;\n",
              "        box-shadow: 0px 1px 3px 1px rgba(0, 0, 0, 0.15);\n",
              "        filter: drop-shadow(0px 1px 2px rgba(0, 0, 0, 0.3));\n",
              "        fill: #FFFFFF;\n",
              "      }\n",
              "    </style>\n",
              "    <button class=\"colab-df-generate\" onclick=\"generateWithVariable('comparison_metrics_df')\"\n",
              "            title=\"Generate code using this dataframe.\"\n",
              "            style=\"display:none;\">\n",
              "\n",
              "  <svg xmlns=\"http://www.w3.org/2000/svg\" height=\"24px\"viewBox=\"0 0 24 24\"\n",
              "       width=\"24px\">\n",
              "    <path d=\"M7,19H8.4L18.45,9,17,7.55,7,17.6ZM5,21V16.75L18.45,3.32a2,2,0,0,1,2.83,0l1.4,1.43a1.91,1.91,0,0,1,.58,1.4,1.91,1.91,0,0,1-.58,1.4L9.25,21ZM18.45,9,17,7.55Zm-12,3A5.31,5.31,0,0,0,4.9,8.1,5.31,5.31,0,0,0,1,6.5,5.31,5.31,0,0,0,4.9,4.9,5.31,5.31,0,0,0,6.5,1,5.31,5.31,0,0,0,8.1,4.9,5.31,5.31,0,0,0,12,6.5,5.46,5.46,0,0,0,6.5,12Z\"/>\n",
              "  </svg>\n",
              "    </button>\n",
              "    <script>\n",
              "      (() => {\n",
              "      const buttonEl =\n",
              "        document.querySelector('#id_b905a382-a1c3-412b-9125-52516df59724 button.colab-df-generate');\n",
              "      buttonEl.style.display =\n",
              "        google.colab.kernel.accessAllowed ? 'block' : 'none';\n",
              "\n",
              "      buttonEl.onclick = () => {\n",
              "        google.colab.notebook.generateWithVariable('comparison_metrics_df');\n",
              "      }\n",
              "      })();\n",
              "    </script>\n",
              "  </div>\n",
              "\n",
              "    </div>\n",
              "  </div>\n"
            ],
            "application/vnd.google.colaboratory.intrinsic+json": {
              "type": "dataframe",
              "variable_name": "comparison_metrics_df",
              "summary": "{\n  \"name\": \"comparison_metrics_df\",\n  \"rows\": 5,\n  \"fields\": [\n    {\n      \"column\": \"Metric\",\n      \"properties\": {\n        \"dtype\": \"string\",\n        \"num_unique_values\": 5,\n        \"samples\": [\n          \"Precision\",\n          \"ROC AUC\",\n          \"Recall\"\n        ],\n        \"semantic_type\": \"\",\n        \"description\": \"\"\n      }\n    },\n    {\n      \"column\": \"CNN Model\",\n      \"properties\": {\n        \"dtype\": \"number\",\n        \"std\": 0.1383974990821707,\n        \"min\": 0.22574584692222407,\n        \"max\": 0.5380333359953877,\n        \"num_unique_values\": 5,\n        \"samples\": [\n          0.23166448274738677,\n          0.5380333359953877,\n          0.2285\n        ],\n        \"semantic_type\": \"\",\n        \"description\": \"\"\n      }\n    },\n    {\n      \"column\": \"Logistic Regression (PCA)\",\n      \"properties\": {\n        \"dtype\": \"number\",\n        \"std\": 0.07321501046705722,\n        \"min\": 0.7584300148346258,\n        \"max\": 0.9227727400630195,\n        \"num_unique_values\": 4,\n        \"samples\": [\n          0.7588188451608325,\n          0.9227727400630195,\n          0.7595\n        ],\n        \"semantic_type\": \"\",\n        \"description\": \"\"\n      }\n    }\n  ]\n}"
            }
          },
          "metadata": {}
        }
      ]
    },
    {
      "cell_type": "markdown",
      "metadata": {
        "id": "f1a5ac7e"
      },
      "source": [
        "# **4. Anomaly Detection**"
      ]
    },
    {
      "cell_type": "markdown",
      "metadata": {
        "id": "c642c895"
      },
      "source": [
        "## **4.1 CNN Autoencoder for Anomaly Detection**"
      ]
    },
    {
      "cell_type": "code",
      "metadata": {
        "colab": {
          "base_uri": "https://localhost:8080/",
          "height": 646
        },
        "id": "Ygi_KH1vIGsq",
        "outputId": "75bbcfed-a00f-4a47-953c-4e8f69e09aa3"
      },
      "source": [
        "val_file_path = '/content/validation_data/jetImage_8_30p_10000_20000.h5'\n",
        "try:\n",
        "    with h5py.File(val_file_path, 'r') as hf_val:\n",
        "        val_jet_images = hf_val['jetImage'][:]\n",
        "    print(f\"Successfully loaded validation jet images from {val_file_path}\")\n",
        "    val_jet_images_scaled = val_jet_images / 255.0\n",
        "    val_jet_images_reshaped = np.expand_dims(val_jet_images_scaled, axis=-1)\n",
        "    print(f\"Scaled and reshaped validation images. New shape: {val_jet_images_reshaped.shape}\")\n",
        "\n",
        "    # 2. Define the input shape for the autoencoder\n",
        "    input_shape = val_jet_images_reshaped.shape[1:]\n",
        "\n",
        "    # 3. Build the encoder part of the autoencoder\n",
        "    from tensorflow.keras.models import Model\n",
        "    from tensorflow.keras.layers import Input, Conv2D, MaxPooling2D, UpSampling2D\n",
        "\n",
        "    input_img = Input(shape=input_shape)\n",
        "\n",
        "    x = Conv2D(32, (3, 3), activation='relu', padding='same')(input_img)\n",
        "    x = MaxPooling2D((2, 2), padding='same')(x)\n",
        "    x = Conv2D(64, (3, 3), activation='relu', padding='same')(x)\n",
        "    x = MaxPooling2D((2, 2), padding='same')(x)\n",
        "    x = Conv2D(128, (3, 3), activation='relu', padding='same')(x)\n",
        "    encoded = MaxPooling2D((2, 2), padding='same')(x) # This is the bottleneck layer output\n",
        "\n",
        "    # 4. Build the decoder part of the autoencoder\n",
        "    x = Conv2D(128, (3, 3), activation='relu', padding='same')(encoded)\n",
        "    x = UpSampling2D((2, 2))(x)\n",
        "    x = Conv2D(64, (3, 3), activation='relu', padding='same')(x)\n",
        "    x = UpSampling2D((2, 2))(x)\n",
        "    x = Conv2D(32, (3, 3), activation='relu', padding='same')(x)\n",
        "    x = UpSampling2D((2, 2))(x)\n",
        "    decoded = Conv2D(1, (3, 3), activation='sigmoid', padding='same')(x) # Output layer with sigmoid for pixel values between 0 and 1\n",
        "\n",
        "    # 5. Create the autoencoder model\n",
        "    autoencoder = Model(input_img, decoded)\n",
        "\n",
        "    # 6. Print the summary of the autoencoder model\n",
        "    print(\"\\nAutoencoder Model Summary:\")\n",
        "    autoencoder.summary()\n",
        "\n",
        "except IOError:\n",
        "    print(f\"Error: Could not read the validation file at {val_file_path}\")\n",
        "except Exception as e:\n",
        "    print(f\"An error occurred during validation data loading/preprocessing or model definition: {e}\")"
      ],
      "execution_count": null,
      "outputs": [
        {
          "output_type": "stream",
          "name": "stdout",
          "text": [
            "Successfully loaded validation jet images from /content/validation_data/jetImage_8_30p_10000_20000.h5\n",
            "Scaled and reshaped validation images. New shape: (10000, 100, 100, 1)\n",
            "\n",
            "Autoencoder Model Summary:\n"
          ]
        },
        {
          "output_type": "display_data",
          "data": {
            "text/plain": [
              "\u001b[1mModel: \"functional\"\u001b[0m\n"
            ],
            "text/html": [
              "<pre style=\"white-space:pre;overflow-x:auto;line-height:normal;font-family:Menlo,'DejaVu Sans Mono',consolas,'Courier New',monospace\"><span style=\"font-weight: bold\">Model: \"functional\"</span>\n",
              "</pre>\n"
            ]
          },
          "metadata": {}
        },
        {
          "output_type": "display_data",
          "data": {
            "text/plain": [
              "┏━━━━━━━━━━━━━━━━━━━━━━━━━━━━━━━━━┳━━━━━━━━━━━━━━━━━━━━━━━━┳━━━━━━━━━━━━━━━┓\n",
              "┃\u001b[1m \u001b[0m\u001b[1mLayer (type)                   \u001b[0m\u001b[1m \u001b[0m┃\u001b[1m \u001b[0m\u001b[1mOutput Shape          \u001b[0m\u001b[1m \u001b[0m┃\u001b[1m \u001b[0m\u001b[1m      Param #\u001b[0m\u001b[1m \u001b[0m┃\n",
              "┡━━━━━━━━━━━━━━━━━━━━━━━━━━━━━━━━━╇━━━━━━━━━━━━━━━━━━━━━━━━╇━━━━━━━━━━━━━━━┩\n",
              "│ input_layer (\u001b[38;5;33mInputLayer\u001b[0m)        │ (\u001b[38;5;45mNone\u001b[0m, \u001b[38;5;34m100\u001b[0m, \u001b[38;5;34m100\u001b[0m, \u001b[38;5;34m1\u001b[0m)    │             \u001b[38;5;34m0\u001b[0m │\n",
              "├─────────────────────────────────┼────────────────────────┼───────────────┤\n",
              "│ conv2d (\u001b[38;5;33mConv2D\u001b[0m)                 │ (\u001b[38;5;45mNone\u001b[0m, \u001b[38;5;34m100\u001b[0m, \u001b[38;5;34m100\u001b[0m, \u001b[38;5;34m32\u001b[0m)   │           \u001b[38;5;34m320\u001b[0m │\n",
              "├─────────────────────────────────┼────────────────────────┼───────────────┤\n",
              "│ max_pooling2d (\u001b[38;5;33mMaxPooling2D\u001b[0m)    │ (\u001b[38;5;45mNone\u001b[0m, \u001b[38;5;34m50\u001b[0m, \u001b[38;5;34m50\u001b[0m, \u001b[38;5;34m32\u001b[0m)     │             \u001b[38;5;34m0\u001b[0m │\n",
              "├─────────────────────────────────┼────────────────────────┼───────────────┤\n",
              "│ conv2d_1 (\u001b[38;5;33mConv2D\u001b[0m)               │ (\u001b[38;5;45mNone\u001b[0m, \u001b[38;5;34m50\u001b[0m, \u001b[38;5;34m50\u001b[0m, \u001b[38;5;34m64\u001b[0m)     │        \u001b[38;5;34m18,496\u001b[0m │\n",
              "├─────────────────────────────────┼────────────────────────┼───────────────┤\n",
              "│ max_pooling2d_1 (\u001b[38;5;33mMaxPooling2D\u001b[0m)  │ (\u001b[38;5;45mNone\u001b[0m, \u001b[38;5;34m25\u001b[0m, \u001b[38;5;34m25\u001b[0m, \u001b[38;5;34m64\u001b[0m)     │             \u001b[38;5;34m0\u001b[0m │\n",
              "├─────────────────────────────────┼────────────────────────┼───────────────┤\n",
              "│ conv2d_2 (\u001b[38;5;33mConv2D\u001b[0m)               │ (\u001b[38;5;45mNone\u001b[0m, \u001b[38;5;34m25\u001b[0m, \u001b[38;5;34m25\u001b[0m, \u001b[38;5;34m128\u001b[0m)    │        \u001b[38;5;34m73,856\u001b[0m │\n",
              "├─────────────────────────────────┼────────────────────────┼───────────────┤\n",
              "│ max_pooling2d_2 (\u001b[38;5;33mMaxPooling2D\u001b[0m)  │ (\u001b[38;5;45mNone\u001b[0m, \u001b[38;5;34m13\u001b[0m, \u001b[38;5;34m13\u001b[0m, \u001b[38;5;34m128\u001b[0m)    │             \u001b[38;5;34m0\u001b[0m │\n",
              "├─────────────────────────────────┼────────────────────────┼───────────────┤\n",
              "│ conv2d_3 (\u001b[38;5;33mConv2D\u001b[0m)               │ (\u001b[38;5;45mNone\u001b[0m, \u001b[38;5;34m13\u001b[0m, \u001b[38;5;34m13\u001b[0m, \u001b[38;5;34m128\u001b[0m)    │       \u001b[38;5;34m147,584\u001b[0m │\n",
              "├─────────────────────────────────┼────────────────────────┼───────────────┤\n",
              "│ up_sampling2d (\u001b[38;5;33mUpSampling2D\u001b[0m)    │ (\u001b[38;5;45mNone\u001b[0m, \u001b[38;5;34m26\u001b[0m, \u001b[38;5;34m26\u001b[0m, \u001b[38;5;34m128\u001b[0m)    │             \u001b[38;5;34m0\u001b[0m │\n",
              "├─────────────────────────────────┼────────────────────────┼───────────────┤\n",
              "│ conv2d_4 (\u001b[38;5;33mConv2D\u001b[0m)               │ (\u001b[38;5;45mNone\u001b[0m, \u001b[38;5;34m26\u001b[0m, \u001b[38;5;34m26\u001b[0m, \u001b[38;5;34m64\u001b[0m)     │        \u001b[38;5;34m73,792\u001b[0m │\n",
              "├─────────────────────────────────┼────────────────────────┼───────────────┤\n",
              "│ up_sampling2d_1 (\u001b[38;5;33mUpSampling2D\u001b[0m)  │ (\u001b[38;5;45mNone\u001b[0m, \u001b[38;5;34m52\u001b[0m, \u001b[38;5;34m52\u001b[0m, \u001b[38;5;34m64\u001b[0m)     │             \u001b[38;5;34m0\u001b[0m │\n",
              "├─────────────────────────────────┼────────────────────────┼───────────────┤\n",
              "│ conv2d_5 (\u001b[38;5;33mConv2D\u001b[0m)               │ (\u001b[38;5;45mNone\u001b[0m, \u001b[38;5;34m52\u001b[0m, \u001b[38;5;34m52\u001b[0m, \u001b[38;5;34m32\u001b[0m)     │        \u001b[38;5;34m18,464\u001b[0m │\n",
              "├─────────────────────────────────┼────────────────────────┼───────────────┤\n",
              "│ up_sampling2d_2 (\u001b[38;5;33mUpSampling2D\u001b[0m)  │ (\u001b[38;5;45mNone\u001b[0m, \u001b[38;5;34m104\u001b[0m, \u001b[38;5;34m104\u001b[0m, \u001b[38;5;34m32\u001b[0m)   │             \u001b[38;5;34m0\u001b[0m │\n",
              "├─────────────────────────────────┼────────────────────────┼───────────────┤\n",
              "│ conv2d_6 (\u001b[38;5;33mConv2D\u001b[0m)               │ (\u001b[38;5;45mNone\u001b[0m, \u001b[38;5;34m104\u001b[0m, \u001b[38;5;34m104\u001b[0m, \u001b[38;5;34m1\u001b[0m)    │           \u001b[38;5;34m289\u001b[0m │\n",
              "└─────────────────────────────────┴────────────────────────┴───────────────┘\n"
            ],
            "text/html": [
              "<pre style=\"white-space:pre;overflow-x:auto;line-height:normal;font-family:Menlo,'DejaVu Sans Mono',consolas,'Courier New',monospace\">┏━━━━━━━━━━━━━━━━━━━━━━━━━━━━━━━━━┳━━━━━━━━━━━━━━━━━━━━━━━━┳━━━━━━━━━━━━━━━┓\n",
              "┃<span style=\"font-weight: bold\"> Layer (type)                    </span>┃<span style=\"font-weight: bold\"> Output Shape           </span>┃<span style=\"font-weight: bold\">       Param # </span>┃\n",
              "┡━━━━━━━━━━━━━━━━━━━━━━━━━━━━━━━━━╇━━━━━━━━━━━━━━━━━━━━━━━━╇━━━━━━━━━━━━━━━┩\n",
              "│ input_layer (<span style=\"color: #0087ff; text-decoration-color: #0087ff\">InputLayer</span>)        │ (<span style=\"color: #00d7ff; text-decoration-color: #00d7ff\">None</span>, <span style=\"color: #00af00; text-decoration-color: #00af00\">100</span>, <span style=\"color: #00af00; text-decoration-color: #00af00\">100</span>, <span style=\"color: #00af00; text-decoration-color: #00af00\">1</span>)    │             <span style=\"color: #00af00; text-decoration-color: #00af00\">0</span> │\n",
              "├─────────────────────────────────┼────────────────────────┼───────────────┤\n",
              "│ conv2d (<span style=\"color: #0087ff; text-decoration-color: #0087ff\">Conv2D</span>)                 │ (<span style=\"color: #00d7ff; text-decoration-color: #00d7ff\">None</span>, <span style=\"color: #00af00; text-decoration-color: #00af00\">100</span>, <span style=\"color: #00af00; text-decoration-color: #00af00\">100</span>, <span style=\"color: #00af00; text-decoration-color: #00af00\">32</span>)   │           <span style=\"color: #00af00; text-decoration-color: #00af00\">320</span> │\n",
              "├─────────────────────────────────┼────────────────────────┼───────────────┤\n",
              "│ max_pooling2d (<span style=\"color: #0087ff; text-decoration-color: #0087ff\">MaxPooling2D</span>)    │ (<span style=\"color: #00d7ff; text-decoration-color: #00d7ff\">None</span>, <span style=\"color: #00af00; text-decoration-color: #00af00\">50</span>, <span style=\"color: #00af00; text-decoration-color: #00af00\">50</span>, <span style=\"color: #00af00; text-decoration-color: #00af00\">32</span>)     │             <span style=\"color: #00af00; text-decoration-color: #00af00\">0</span> │\n",
              "├─────────────────────────────────┼────────────────────────┼───────────────┤\n",
              "│ conv2d_1 (<span style=\"color: #0087ff; text-decoration-color: #0087ff\">Conv2D</span>)               │ (<span style=\"color: #00d7ff; text-decoration-color: #00d7ff\">None</span>, <span style=\"color: #00af00; text-decoration-color: #00af00\">50</span>, <span style=\"color: #00af00; text-decoration-color: #00af00\">50</span>, <span style=\"color: #00af00; text-decoration-color: #00af00\">64</span>)     │        <span style=\"color: #00af00; text-decoration-color: #00af00\">18,496</span> │\n",
              "├─────────────────────────────────┼────────────────────────┼───────────────┤\n",
              "│ max_pooling2d_1 (<span style=\"color: #0087ff; text-decoration-color: #0087ff\">MaxPooling2D</span>)  │ (<span style=\"color: #00d7ff; text-decoration-color: #00d7ff\">None</span>, <span style=\"color: #00af00; text-decoration-color: #00af00\">25</span>, <span style=\"color: #00af00; text-decoration-color: #00af00\">25</span>, <span style=\"color: #00af00; text-decoration-color: #00af00\">64</span>)     │             <span style=\"color: #00af00; text-decoration-color: #00af00\">0</span> │\n",
              "├─────────────────────────────────┼────────────────────────┼───────────────┤\n",
              "│ conv2d_2 (<span style=\"color: #0087ff; text-decoration-color: #0087ff\">Conv2D</span>)               │ (<span style=\"color: #00d7ff; text-decoration-color: #00d7ff\">None</span>, <span style=\"color: #00af00; text-decoration-color: #00af00\">25</span>, <span style=\"color: #00af00; text-decoration-color: #00af00\">25</span>, <span style=\"color: #00af00; text-decoration-color: #00af00\">128</span>)    │        <span style=\"color: #00af00; text-decoration-color: #00af00\">73,856</span> │\n",
              "├─────────────────────────────────┼────────────────────────┼───────────────┤\n",
              "│ max_pooling2d_2 (<span style=\"color: #0087ff; text-decoration-color: #0087ff\">MaxPooling2D</span>)  │ (<span style=\"color: #00d7ff; text-decoration-color: #00d7ff\">None</span>, <span style=\"color: #00af00; text-decoration-color: #00af00\">13</span>, <span style=\"color: #00af00; text-decoration-color: #00af00\">13</span>, <span style=\"color: #00af00; text-decoration-color: #00af00\">128</span>)    │             <span style=\"color: #00af00; text-decoration-color: #00af00\">0</span> │\n",
              "├─────────────────────────────────┼────────────────────────┼───────────────┤\n",
              "│ conv2d_3 (<span style=\"color: #0087ff; text-decoration-color: #0087ff\">Conv2D</span>)               │ (<span style=\"color: #00d7ff; text-decoration-color: #00d7ff\">None</span>, <span style=\"color: #00af00; text-decoration-color: #00af00\">13</span>, <span style=\"color: #00af00; text-decoration-color: #00af00\">13</span>, <span style=\"color: #00af00; text-decoration-color: #00af00\">128</span>)    │       <span style=\"color: #00af00; text-decoration-color: #00af00\">147,584</span> │\n",
              "├─────────────────────────────────┼────────────────────────┼───────────────┤\n",
              "│ up_sampling2d (<span style=\"color: #0087ff; text-decoration-color: #0087ff\">UpSampling2D</span>)    │ (<span style=\"color: #00d7ff; text-decoration-color: #00d7ff\">None</span>, <span style=\"color: #00af00; text-decoration-color: #00af00\">26</span>, <span style=\"color: #00af00; text-decoration-color: #00af00\">26</span>, <span style=\"color: #00af00; text-decoration-color: #00af00\">128</span>)    │             <span style=\"color: #00af00; text-decoration-color: #00af00\">0</span> │\n",
              "├─────────────────────────────────┼────────────────────────┼───────────────┤\n",
              "│ conv2d_4 (<span style=\"color: #0087ff; text-decoration-color: #0087ff\">Conv2D</span>)               │ (<span style=\"color: #00d7ff; text-decoration-color: #00d7ff\">None</span>, <span style=\"color: #00af00; text-decoration-color: #00af00\">26</span>, <span style=\"color: #00af00; text-decoration-color: #00af00\">26</span>, <span style=\"color: #00af00; text-decoration-color: #00af00\">64</span>)     │        <span style=\"color: #00af00; text-decoration-color: #00af00\">73,792</span> │\n",
              "├─────────────────────────────────┼────────────────────────┼───────────────┤\n",
              "│ up_sampling2d_1 (<span style=\"color: #0087ff; text-decoration-color: #0087ff\">UpSampling2D</span>)  │ (<span style=\"color: #00d7ff; text-decoration-color: #00d7ff\">None</span>, <span style=\"color: #00af00; text-decoration-color: #00af00\">52</span>, <span style=\"color: #00af00; text-decoration-color: #00af00\">52</span>, <span style=\"color: #00af00; text-decoration-color: #00af00\">64</span>)     │             <span style=\"color: #00af00; text-decoration-color: #00af00\">0</span> │\n",
              "├─────────────────────────────────┼────────────────────────┼───────────────┤\n",
              "│ conv2d_5 (<span style=\"color: #0087ff; text-decoration-color: #0087ff\">Conv2D</span>)               │ (<span style=\"color: #00d7ff; text-decoration-color: #00d7ff\">None</span>, <span style=\"color: #00af00; text-decoration-color: #00af00\">52</span>, <span style=\"color: #00af00; text-decoration-color: #00af00\">52</span>, <span style=\"color: #00af00; text-decoration-color: #00af00\">32</span>)     │        <span style=\"color: #00af00; text-decoration-color: #00af00\">18,464</span> │\n",
              "├─────────────────────────────────┼────────────────────────┼───────────────┤\n",
              "│ up_sampling2d_2 (<span style=\"color: #0087ff; text-decoration-color: #0087ff\">UpSampling2D</span>)  │ (<span style=\"color: #00d7ff; text-decoration-color: #00d7ff\">None</span>, <span style=\"color: #00af00; text-decoration-color: #00af00\">104</span>, <span style=\"color: #00af00; text-decoration-color: #00af00\">104</span>, <span style=\"color: #00af00; text-decoration-color: #00af00\">32</span>)   │             <span style=\"color: #00af00; text-decoration-color: #00af00\">0</span> │\n",
              "├─────────────────────────────────┼────────────────────────┼───────────────┤\n",
              "│ conv2d_6 (<span style=\"color: #0087ff; text-decoration-color: #0087ff\">Conv2D</span>)               │ (<span style=\"color: #00d7ff; text-decoration-color: #00d7ff\">None</span>, <span style=\"color: #00af00; text-decoration-color: #00af00\">104</span>, <span style=\"color: #00af00; text-decoration-color: #00af00\">104</span>, <span style=\"color: #00af00; text-decoration-color: #00af00\">1</span>)    │           <span style=\"color: #00af00; text-decoration-color: #00af00\">289</span> │\n",
              "└─────────────────────────────────┴────────────────────────┴───────────────┘\n",
              "</pre>\n"
            ]
          },
          "metadata": {}
        },
        {
          "output_type": "display_data",
          "data": {
            "text/plain": [
              "\u001b[1m Total params: \u001b[0m\u001b[38;5;34m332,801\u001b[0m (1.27 MB)\n"
            ],
            "text/html": [
              "<pre style=\"white-space:pre;overflow-x:auto;line-height:normal;font-family:Menlo,'DejaVu Sans Mono',consolas,'Courier New',monospace\"><span style=\"font-weight: bold\"> Total params: </span><span style=\"color: #00af00; text-decoration-color: #00af00\">332,801</span> (1.27 MB)\n",
              "</pre>\n"
            ]
          },
          "metadata": {}
        },
        {
          "output_type": "display_data",
          "data": {
            "text/plain": [
              "\u001b[1m Trainable params: \u001b[0m\u001b[38;5;34m332,801\u001b[0m (1.27 MB)\n"
            ],
            "text/html": [
              "<pre style=\"white-space:pre;overflow-x:auto;line-height:normal;font-family:Menlo,'DejaVu Sans Mono',consolas,'Courier New',monospace\"><span style=\"font-weight: bold\"> Trainable params: </span><span style=\"color: #00af00; text-decoration-color: #00af00\">332,801</span> (1.27 MB)\n",
              "</pre>\n"
            ]
          },
          "metadata": {}
        },
        {
          "output_type": "display_data",
          "data": {
            "text/plain": [
              "\u001b[1m Non-trainable params: \u001b[0m\u001b[38;5;34m0\u001b[0m (0.00 B)\n"
            ],
            "text/html": [
              "<pre style=\"white-space:pre;overflow-x:auto;line-height:normal;font-family:Menlo,'DejaVu Sans Mono',consolas,'Courier New',monospace\"><span style=\"font-weight: bold\"> Non-trainable params: </span><span style=\"color: #00af00; text-decoration-color: #00af00\">0</span> (0.00 B)\n",
              "</pre>\n"
            ]
          },
          "metadata": {}
        }
      ]
    },
    {
      "cell_type": "markdown",
      "metadata": {
        "id": "a576eeae"
      },
      "source": [
        "**Compile the autoencoder**"
      ]
    },
    {
      "cell_type": "code",
      "metadata": {
        "colab": {
          "base_uri": "https://localhost:8080/"
        },
        "id": "8814ab44",
        "outputId": "3a34378d-ad00-474c-8f57-67b12f699336"
      },
      "source": [
        "autoencoder.compile(optimizer=Adam(),\n",
        "                    loss='mean_squared_error')\n",
        "\n",
        "print(\"Autoencoder model compiled successfully.\")"
      ],
      "execution_count": null,
      "outputs": [
        {
          "output_type": "stream",
          "name": "stdout",
          "text": [
            "Autoencoder model compiled successfully.\n"
          ]
        }
      ]
    },
    {
      "cell_type": "markdown",
      "metadata": {
        "id": "af44bc66"
      },
      "source": [
        "**Training the autoencoder**"
      ]
    },
    {
      "cell_type": "code",
      "metadata": {
        "colab": {
          "base_uri": "https://localhost:8080/"
        },
        "id": "50b8be41",
        "outputId": "7ee4722c-e07d-4a2f-c170-e681d4246132"
      },
      "source": [
        "# Identify the \"normal\" class (assuming 'j_g' is normal)\n",
        "normal_class_label = b'j_g' # Use the byte string as in the original df\n",
        "\n",
        "# Get the indices of the normal class in the original df\n",
        "normal_indices = df[df['target'] == normal_class_label].index\n",
        "\n",
        "# Filter the reshaped validation images to include only the normal class images\n",
        "# Note: We are using the validation data here as it was already loaded and preprocessed.\n",
        "# In a real anomaly detection scenario, you would train on a dedicated normal training set.\n",
        "normal_jet_images_reshaped = val_jet_images_reshaped[normal_indices]\n",
        "\n",
        "print(f\"Shape of normal jet images for autoencoder training: {normal_jet_images_reshaped.shape}\")\n",
        "\n",
        "# Train the autoencoder model on the normal jet images\n",
        "epochs_autoencoder = 5\n",
        "batch_size_autoencoder = 64\n",
        "\n",
        "print(\"\\nTraining autoencoder model...\")\n",
        "history_autoencoder = autoencoder.fit(\n",
        "    normal_jet_images_reshaped,\n",
        "    normal_jet_images_reshaped, # Autoencoder target is the input itself\n",
        "    epochs=epochs_autoencoder,\n",
        "    batch_size=batch_size_autoencoder,\n",
        "    shuffle=True, # Shuffle the training data\n",
        "    validation_split=0.2 # Use a validation split from the normal data\n",
        ")\n",
        "\n",
        "print(f\"\\nAutoencoder training completed for {epochs_autoencoder} epochs.\")"
      ],
      "execution_count": null,
      "outputs": [
        {
          "output_type": "stream",
          "name": "stdout",
          "text": [
            "Shape of normal jet images for autoencoder training: (2032, 100, 100, 1)\n",
            "\n",
            "Training autoencoder model...\n",
            "Epoch 1/5\n",
            "\u001b[1m26/26\u001b[0m \u001b[32m━━━━━━━━━━━━━━━━━━━━\u001b[0m\u001b[37m\u001b[0m \u001b[1m58s\u001b[0m 2s/step - loss: 4.5935e-04 - val_loss: 4.4286e-04\n",
            "Epoch 2/5\n",
            "\u001b[1m26/26\u001b[0m \u001b[32m━━━━━━━━━━━━━━━━━━━━\u001b[0m\u001b[37m\u001b[0m \u001b[1m84s\u001b[0m 2s/step - loss: 4.7982e-04 - val_loss: 4.4286e-04\n",
            "Epoch 3/5\n",
            "\u001b[1m26/26\u001b[0m \u001b[32m━━━━━━━━━━━━━━━━━━━━\u001b[0m\u001b[37m\u001b[0m \u001b[1m60s\u001b[0m 2s/step - loss: 4.5102e-04 - val_loss: 4.4286e-04\n",
            "Epoch 4/5\n",
            "\u001b[1m26/26\u001b[0m \u001b[32m━━━━━━━━━━━━━━━━━━━━\u001b[0m\u001b[37m\u001b[0m \u001b[1m82s\u001b[0m 2s/step - loss: 4.5775e-04 - val_loss: 4.4286e-04\n",
            "Epoch 5/5\n",
            "\u001b[1m26/26\u001b[0m \u001b[32m━━━━━━━━━━━━━━━━━━━━\u001b[0m\u001b[37m\u001b[0m \u001b[1m60s\u001b[0m 2s/step - loss: 4.5162e-04 - val_loss: 4.4286e-04\n",
            "\n",
            "Autoencoder training completed for 5 epochs.\n"
          ]
        }
      ]
    },
    {
      "cell_type": "markdown",
      "metadata": {
        "id": "7f22a892"
      },
      "source": [
        "**Propose Anomaly Threshold**"
      ]
    },
    {
      "cell_type": "code",
      "metadata": {
        "colab": {
          "base_uri": "https://localhost:8080/"
        },
        "id": "61043ca3",
        "outputId": "3473434f-2de8-4625-d975-6e86e97e1f7b"
      },
      "source": [
        "# Calculate the mean and standard deviation of the reconstruction errors\n",
        "mean_error = np.mean(reconstruction_errors)\n",
        "std_error = np.std(reconstruction_errors)\n",
        "\n",
        "# Propose a threshold (e.g., mean + 2*std)\n",
        "# This is a common starting point, assuming errors follow a roughly normal distribution\n",
        "# and aiming to capture ~95% of normal data below the threshold.\n",
        "anomaly_threshold = mean_error + 2 * std_error\n",
        "\n",
        "print(f\"Mean Reconstruction Error: {mean_error:.6f}\")\n",
        "print(f\"Standard Deviation of Reconstruction Errors: {std_error:.6f}\")\n",
        "print(f\"Proposed Anomaly Threshold (Mean + 2*Std): {anomaly_threshold:.6f}\")\n",
        "\n",
        "# Justify the choice and discuss trade-offs\n",
        "print(\"\\n--- Justification of Anomaly Threshold and Trade-offs ---\")\n",
        "\n",
        "print(f\"\\nProposed Threshold: {anomaly_threshold:.6f}\")\n",
        "print(\"Justification:\")\n",
        "print(f\"The threshold is set at the mean of the reconstruction errors plus two times their standard deviation. This approach, often used when assuming a roughly normal distribution of errors for 'normal' data, aims to capture the majority of normal instances within the threshold.\")\n",
        "print(\"Data points with reconstruction errors significantly higher than this threshold are considered anomalies because the autoencoder, trained only on normal data, is expected to reconstruct normal images with low error, while struggling to reconstruct anomalous images, resulting in higher errors.\")\n",
        "\n",
        "print(\"\\nTrade-off between Sensitivity and Specificity:\")\n",
        "print(\"- **Sensitivity (True Positive Rate):** The ability of the model to correctly identify actual anomalies. A lower threshold increases sensitivity, as more instances (including subtle anomalies) will exceed the threshold and be flagged as anomalous. However, this also increases the risk of false positives.\")\n",
        "print(\"- **Specificity (True Negative Rate):** The ability of the model to correctly identify normal instances. A higher threshold increases specificity, as fewer normal instances will be mistakenly flagged as anomalous (fewer false positives). However, this decreases sensitivity, as some true anomalies with lower reconstruction errors might be missed.\")\n",
        "\n",
        "print(\"\\nChoosing a threshold involves balancing these two:\")\n",
        "print(\"- A **lower threshold** (e.g., mean + 1*std) would be more sensitive, catching more potential anomalies, but would also have more false positives (flagging normal jets as anomalous). This might be preferable in scenarios where missing an anomaly is costly.\")\n",
        "print(\"- A **higher threshold** (e.g., mean + 3*std or a value based on a desired percentile) would be more specific, reducing false positives, but would be less sensitive, potentially missing some true anomalies. This might be preferred when the cost of false positives is high.\")\n",
        "\n",
        "print(f\"\\nThe chosen threshold of Mean + 2*Std ({anomaly_threshold:.6f}) is a common starting point that attempts to strike a balance, aiming for a reasonable detection rate of anomalies while keeping false positives in check. The optimal threshold would ideally be determined based on the specific application's requirements and costs associated with false positives and false negatives, potentially by analyzing the trade-off on a labeled validation set (if available) using techniques like an ROC curve for anomaly detection.\")"
      ],
      "execution_count": null,
      "outputs": [
        {
          "output_type": "stream",
          "name": "stdout",
          "text": [
            "Mean Reconstruction Error: 0.000455\n",
            "Standard Deviation of Reconstruction Errors: 0.000297\n",
            "Proposed Anomaly Threshold (Mean + 2*Std): 0.001048\n",
            "\n",
            "--- Justification of Anomaly Threshold and Trade-offs ---\n",
            "\n",
            "Proposed Threshold: 0.001048\n",
            "Justification:\n",
            "The threshold is set at the mean of the reconstruction errors plus two times their standard deviation. This approach, often used when assuming a roughly normal distribution of errors for 'normal' data, aims to capture the majority of normal instances within the threshold.\n",
            "Data points with reconstruction errors significantly higher than this threshold are considered anomalies because the autoencoder, trained only on normal data, is expected to reconstruct normal images with low error, while struggling to reconstruct anomalous images, resulting in higher errors.\n",
            "\n",
            "Trade-off between Sensitivity and Specificity:\n",
            "- **Sensitivity (True Positive Rate):** The ability of the model to correctly identify actual anomalies. A lower threshold increases sensitivity, as more instances (including subtle anomalies) will exceed the threshold and be flagged as anomalous. However, this also increases the risk of false positives.\n",
            "- **Specificity (True Negative Rate):** The ability of the model to correctly identify normal instances. A higher threshold increases specificity, as fewer normal instances will be mistakenly flagged as anomalous (fewer false positives). However, this decreases sensitivity, as some true anomalies with lower reconstruction errors might be missed.\n",
            "\n",
            "Choosing a threshold involves balancing these two:\n",
            "- A **lower threshold** (e.g., mean + 1*std) would be more sensitive, catching more potential anomalies, but would also have more false positives (flagging normal jets as anomalous). This might be preferable in scenarios where missing an anomaly is costly.\n",
            "- A **higher threshold** (e.g., mean + 3*std or a value based on a desired percentile) would be more specific, reducing false positives, but would be less sensitive, potentially missing some true anomalies. This might be preferred when the cost of false positives is high.\n",
            "\n",
            "The chosen threshold of Mean + 2*Std (0.001048) is a common starting point that attempts to strike a balance, aiming for a reasonable detection rate of anomalies while keeping false positives in check. The optimal threshold would ideally be determined based on the specific application's requirements and costs associated with false positives and false negatives, potentially by analyzing the trade-off on a labeled validation set (if available) using techniques like an ROC curve for anomaly detection.\n"
          ]
        }
      ]
    },
    {
      "cell_type": "markdown",
      "metadata": {
        "id": "5c5e2dd2"
      },
      "source": [
        "**Analyze Reconstruction Error Distribution**"
      ]
    },
    {
      "cell_type": "code",
      "metadata": {
        "colab": {
          "base_uri": "https://localhost:8080/",
          "height": 748
        },
        "id": "5bb95240",
        "outputId": "e90ec627-fac3-4bbd-bb1d-63b3b9f84249"
      },
      "source": [
        "# Plot the distribution of reconstruction errors\n",
        "plt.figure(figsize=(10, 6))\n",
        "sns.histplot(reconstruction_errors, bins=50, kde=True)\n",
        "plt.xlabel(\"Reconstruction Error (MSE)\")\n",
        "plt.ylabel(\"Frequency\")\n",
        "plt.title(\"Distribution of Reconstruction Errors\")\n",
        "plt.grid(True)\n",
        "plt.show()\n",
        "\n",
        "# Print some descriptive statistics of the reconstruction errors\n",
        "print(\"\\nDescriptive statistics of reconstruction errors:\")\n",
        "print(pd.Series(reconstruction_errors).describe())"
      ],
      "execution_count": null,
      "outputs": [
        {
          "output_type": "display_data",
          "data": {
            "text/plain": [
              "<Figure size 1000x600 with 1 Axes>"
            ],
            "image/png": "[encoded data removed]"
          },
          "metadata": {}
        },
        {
          "output_type": "stream",
          "name": "stdout",
          "text": [
            "\n",
            "Descriptive statistics of reconstruction errors:\n",
            "count    10000.000000\n",
            "mean         0.000455\n",
            "std          0.000297\n",
            "min          0.000013\n",
            "25%          0.000238\n",
            "50%          0.000397\n",
            "75%          0.000599\n",
            "max          0.005323\n",
            "dtype: float64\n"
          ]
        }
      ]
    },
    {
      "cell_type": "markdown",
      "metadata": {
        "id": "27cad0b4"
      },
      "source": [
        "**Calculate Reconstruction Error**"
      ]
    },
    {
      "cell_type": "code",
      "metadata": {
        "colab": {
          "base_uri": "https://localhost:8080/"
        },
        "id": "d8caeefe",
        "outputId": "aa0cf9b1-8710-4296-c60f-2f1475cf132c"
      },
      "source": [
        "# 1. Use the trained autoencoder to predict on the validation data to get reconstructed images.\n",
        "reconstructed_images = autoencoder.predict(val_jet_images_reshaped)\n",
        "\n",
        "# 2. Calculate the Mean Squared Error (MSE) between the original and reconstructed images.\n",
        "# The reconstruction error for each image is the mean of the squared differences across all pixels.\n",
        "reconstruction_errors = np.mean(np.square(val_jet_images_reshaped - reconstructed_images), axis=(1, 2, 3))\n",
        "\n",
        "# 3. Print the shape of the reconstruction errors array to verify.\n",
        "print(f\"Shape of reconstruction errors: {reconstruction_errors.shape}\")\n",
        "\n",
        "# 4. Print the first few reconstruction errors as an example.\n",
        "print(\"\\nFirst 10 reconstruction errors:\")\n",
        "print(reconstruction_errors[:10])"
      ],
      "execution_count": null,
      "outputs": [
        {
          "output_type": "stream",
          "name": "stdout",
          "text": [
            "\u001b[1m313/313\u001b[0m \u001b[32m━━━━━━━━━━━━━━━━━━━━\u001b[0m\u001b[37m\u001b[0m \u001b[1m77s\u001b[0m 244ms/step\n",
            "Shape of reconstruction errors: (10000,)\n",
            "\n",
            "First 10 reconstruction errors:\n",
            "[0.00052538 0.0004601  0.00051028 0.00010538 0.00033999 0.00075061\n",
            " 0.00044488 0.00045858 0.00048495 0.00052285]\n"
          ]
        }
      ]
    },
    {
      "cell_type": "markdown",
      "metadata": {
        "id": "fa7d5e0c"
      },
      "source": [
        "**Visualisation and Analysis of Anomalies**"
      ]
    },
    {
      "cell_type": "code",
      "metadata": {
        "colab": {
          "base_uri": "https://localhost:8080/",
          "height": 514
        },
        "id": "a5dde803",
        "outputId": "8ef289ba-cf40-4e95-dfb3-26f1872d4ca0"
      },
      "source": [
        "# 1. Find the indices of the top 5 jets with the highest reconstruction errors.\n",
        "top_5_anomaly_indices = np.argsort(reconstruction_errors)[-5:][::-1]\n",
        "\n",
        "print(\"Indices of top 5 jets with highest reconstruction errors:\", top_5_anomaly_indices)\n",
        "\n",
        "# 2. Visualise the original and reconstructed images for these top 5 jets.\n",
        "plt.figure(figsize=(15, 6))\n",
        "\n",
        "for i, idx in enumerate(top_5_anomaly_indices):\n",
        "    # Original Image\n",
        "    plt.subplot(2, 5, i + 1)\n",
        "    plt.imshow(val_jet_images_reshaped[idx].squeeze(), cmap='gray')\n",
        "    plt.title(f\"Original {idx}\\nError: {reconstruction_errors[idx]:.6f}\")\n",
        "    plt.axis('off')\n",
        "\n",
        "    # Reconstructed Image\n",
        "    plt.subplot(2, 5, i + 6)\n",
        "    plt.imshow(reconstructed_images[idx].squeeze(), cmap='gray')\n",
        "    plt.title(f\"Reconstructed {idx}\")\n",
        "    plt.axis('off')\n",
        "\n",
        "plt.tight_layout()\n",
        "plt.show()\n",
        "\n",
        "# 3. Print the total number of anomalies detected based on the proposed threshold.\n",
        "num_anomalies = np.sum(reconstruction_errors > anomaly_threshold)\n",
        "print(f\"\\nTotal number of anomalies detected (using threshold {anomaly_threshold:.6f}): {num_anomalies}\")"
      ],
      "execution_count": null,
      "outputs": [
        {
          "output_type": "stream",
          "name": "stdout",
          "text": [
            "Indices of top 5 jets with highest reconstruction errors: [5085 5601 9073 8496 4866]\n"
          ]
        },
        {
          "output_type": "display_data",
          "data": {
            "text/plain": [
              "<Figure size 1500x600 with 10 Axes>"
            ],
            "image/png": "[encoded data removed]"
          },
          "metadata": {}
        },
        {
          "output_type": "stream",
          "name": "stdout",
          "text": [
            "\n",
            "Total number of anomalies detected (using threshold 0.001048): 408\n"
          ]
        }
      ]
    }
  ]
}